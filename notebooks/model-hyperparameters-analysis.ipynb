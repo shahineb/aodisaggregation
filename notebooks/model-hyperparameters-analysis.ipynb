{
 "cells": [
  {
   "cell_type": "code",
   "execution_count": 1,
   "id": "798403cf",
   "metadata": {},
   "outputs": [],
   "source": [
    "import os\n",
    "import sys\n",
    "from glob import glob\n",
    "import yaml\n",
    "import numpy as np\n",
    "import torch\n",
    "import matplotlib\n",
    "import matplotlib.pyplot as plt\n",
    "import pandas as pd\n",
    "import scienceplots\n",
    "plt.style.use('science')\n",
    "base_dir = os.path.join(os.getcwd(), '..')\n",
    "sys.path.append(base_dir)"
   ]
  },
  {
   "cell_type": "code",
   "execution_count": 2,
   "id": "fd5720fb",
   "metadata": {},
   "outputs": [],
   "source": [
    "with open('../config/svgp.yaml', 'r') as f:\n",
    "    cfg = yaml.safe_load(f)\n",
    "    cfg['dataset']['path'] = os.path.join('../', cfg['dataset']['path'])"
   ]
  },
  {
   "cell_type": "markdown",
   "id": "86db98cf",
   "metadata": {},
   "source": [
    "### Estimate stddev of haversine distance"
   ]
  },
  {
   "cell_type": "code",
   "execution_count": 5,
   "id": "668f674b",
   "metadata": {},
   "outputs": [
    {
     "name": "stderr",
     "output_type": "stream",
     "text": [
      "/home/bouabid/.pyenv/versions/sandbox/lib/python3.8/site-packages/torch/functional.py:478: UserWarning: torch.meshgrid: in an upcoming release, it will be required to pass the indexing argument. (Triggered internally at  ../aten/src/ATen/native/TensorShape.cpp:2895.)\n",
      "  return _VF.meshgrid(tensors, **kwargs)  # type: ignore[attr-defined]\n"
     ]
    }
   ],
   "source": [
    "import run_svgp_vertical_profile as main\n",
    "from src.kernels.haversine_matern import batch_haversine_distances\n",
    "\n",
    "data = main.make_data(cfg)\n",
    "\n",
    "torch.random.manual_seed(5)\n",
    "rdm_idx = torch.randperm(len(data.x))[:4000]\n",
    "latlon_subset = data.x[None, rdm_idx, 2:4]\n",
    "hav = batch_haversine_distances(latlon_subset, latlon_subset).squeeze()\n",
    "hav = hav[np.triu_indices(4000)]\n",
    "hav_stddev = torch.std(hav)"
   ]
  },
  {
   "cell_type": "markdown",
   "id": "b4654391",
   "metadata": {},
   "source": [
    "## SVGP"
   ]
  },
  {
   "cell_type": "code",
   "execution_count": 6,
   "id": "cb4e5d48",
   "metadata": {},
   "outputs": [],
   "source": [
    "import run_svgp_vertical_profile as main\n",
    "\n",
    "data = main.make_data(cfg)\n",
    "model = main.make_model(cfg, data)\n",
    "\n",
    "def extract_params_svgp(state_dict_path):\n",
    "    state_dict = torch.load(state_dict_path, map_location='cpu')\n",
    "    model.load_state_dict(state_dict)\n",
    "    gamma = model.kernel.kernels[0].kernels[0].outputscale.detach().item()\n",
    "    ltime = model.kernel.kernels[0].kernels[0].base_kernel.lengthscale[0][0].detach().item()\n",
    "    llatlon = model.kernel.kernels[0].kernels[1].lengthscale[0][0].detach().item() / hav_stddev\n",
    "    lmeteo = model.kernel.kernels[1].lengthscale[0].detach()\n",
    "    lP, lT, lRH, lomega = lmeteo\n",
    "    lP, lT, lRH, lomega = lP.item(), lT.item(), lRH.item(), lomega.item()\n",
    "    columns = [r'$\\gamma_1$', r'$\\ell_t$', r'$\\ell_{latlon}$',\n",
    "               r'$\\ell_T$', r'$\\ell_P$', r'$\\ell_{RH}$', r'$\\ell_\\omega$']\n",
    "    params_vals = [[gamma, ltime, llatlon, lT, lP, lRH, lomega]]\n",
    "    params_df = pd.DataFrame(data=params_vals, columns=columns)\n",
    "    return params_df"
   ]
  },
  {
   "cell_type": "code",
   "execution_count": 7,
   "id": "35a9afea",
   "metadata": {
    "scrolled": true
   },
   "outputs": [
    {
     "name": "stderr",
     "output_type": "stream",
     "text": [
      "/tmp/ipykernel_70798/1449306794.py:8: FutureWarning: In future versions `DataFrame.to_latex` is expected to utilise the base implementation of `Styler.to_latex` for formatting and rendering. The arguments signature may therefore change. It is recommended instead to use `DataFrame.style.to_latex` which also contains additional functionality.\n",
      "  params_df.to_latex('./tables/svgp-hyperparameters.tex', escape=False)\n"
     ]
    },
    {
     "data": {
      "text/html": [
       "<div>\n",
       "<style scoped>\n",
       "    .dataframe tbody tr th:only-of-type {\n",
       "        vertical-align: middle;\n",
       "    }\n",
       "\n",
       "    .dataframe tbody tr th {\n",
       "        vertical-align: top;\n",
       "    }\n",
       "\n",
       "    .dataframe thead th {\n",
       "        text-align: right;\n",
       "    }\n",
       "</style>\n",
       "<table border=\"1\" class=\"dataframe\">\n",
       "  <thead>\n",
       "    <tr style=\"text-align: right;\">\n",
       "      <th></th>\n",
       "      <th>$\\gamma_1$</th>\n",
       "      <th>$\\ell_t$</th>\n",
       "      <th>$\\ell_{latlon}$</th>\n",
       "      <th>$\\ell_T$</th>\n",
       "      <th>$\\ell_P$</th>\n",
       "      <th>$\\ell_{RH}$</th>\n",
       "      <th>$\\ell_\\omega$</th>\n",
       "    </tr>\n",
       "  </thead>\n",
       "  <tbody>\n",
       "    <tr>\n",
       "      <th>mean</th>\n",
       "      <td>0.263053</td>\n",
       "      <td>7.606869</td>\n",
       "      <td>0.852344</td>\n",
       "      <td>2.508282</td>\n",
       "      <td>3.377943</td>\n",
       "      <td>3.382885</td>\n",
       "      <td>6.574384</td>\n",
       "    </tr>\n",
       "    <tr>\n",
       "      <th>std</th>\n",
       "      <td>0.017924</td>\n",
       "      <td>0.194535</td>\n",
       "      <td>0.058697</td>\n",
       "      <td>0.063753</td>\n",
       "      <td>0.097788</td>\n",
       "      <td>0.092575</td>\n",
       "      <td>0.088053</td>\n",
       "    </tr>\n",
       "  </tbody>\n",
       "</table>\n",
       "</div>"
      ],
      "text/plain": [
       "      $\\gamma_1$  $\\ell_t$  $\\ell_{latlon}$  $\\ell_T$  $\\ell_P$  $\\ell_{RH}$  \\\n",
       "mean    0.263053  7.606869         0.852344  2.508282  3.377943     3.382885   \n",
       "std     0.017924  0.194535         0.058697  0.063753  0.097788     0.092575   \n",
       "\n",
       "      $\\ell_\\omega$  \n",
       "mean       6.574384  \n",
       "std        0.088053  "
      ]
     },
     "execution_count": 7,
     "metadata": {},
     "output_type": "execute_result"
    }
   ],
   "source": [
    "svgp_paths = glob('../experiments/data/outputs/svgp/seed_*')\n",
    "dfs = []\n",
    "for path in svgp_paths:\n",
    "    params_df = extract_params_svgp(os.path.join(path, 'state_dict.pt'))\n",
    "    dfs.append(params_df)\n",
    "params_df = pd.concat(dfs, axis=0).reset_index(drop=True)\n",
    "params_df = params_df.aggregate(['mean', 'std'])\n",
    "# params_df.to_latex('./tables/svgp-hyperparameters.tex', escape=False)\n",
    "params_df"
   ]
  },
  {
   "cell_type": "markdown",
   "id": "448ee119",
   "metadata": {},
   "source": [
    "## GP only"
   ]
  },
  {
   "cell_type": "code",
   "execution_count": 8,
   "id": "ac3c1cb1",
   "metadata": {},
   "outputs": [],
   "source": [
    "import ablations.run_svgp_gp_only as main\n",
    "\n",
    "model = main.make_model(cfg, data)\n",
    "\n",
    "def extract_params_svgp(state_dict_path):\n",
    "    state_dict = torch.load(state_dict_path, map_location='cpu')\n",
    "    model.load_state_dict(state_dict)\n",
    "    gamma = model.kernel.kernels[0].kernels[0].outputscale.detach().item()\n",
    "    ltime = model.kernel.kernels[0].kernels[0].base_kernel.lengthscale[0][0].detach().item()\n",
    "    llatlon = model.kernel.kernels[0].kernels[1].lengthscale[0][0].detach().item() / hav_stddev\n",
    "    lmeteo = model.kernel.kernels[1].lengthscale[0].detach()\n",
    "    lP, lT, lRH, lomega = lmeteo\n",
    "    lP, lT, lRH, lomega = lP.item(), lT.item(), lRH.item(), lomega.item()\n",
    "    columns = [r'$\\gamma_1$', r'$\\ell_t$', r'$\\ell_{latlon}$',\n",
    "               r'$\\ell_T$', r'$\\ell_P$', r'$\\ell_{RH}$', r'$\\ell_\\omega$']\n",
    "    params_vals = [[gamma, ltime, llatlon, lT, lP, lRH, lomega]]\n",
    "    params_df = pd.DataFrame(data=params_vals, columns=columns)\n",
    "    return params_df"
   ]
  },
  {
   "cell_type": "code",
   "execution_count": 9,
   "id": "3d4950f5",
   "metadata": {
    "scrolled": true
   },
   "outputs": [
    {
     "name": "stderr",
     "output_type": "stream",
     "text": [
      "/tmp/ipykernel_70798/3543131209.py:8: FutureWarning: In future versions `DataFrame.to_latex` is expected to utilise the base implementation of `Styler.to_latex` for formatting and rendering. The arguments signature may therefore change. It is recommended instead to use `DataFrame.style.to_latex` which also contains additional functionality.\n",
      "  params_df.to_latex('./tables/svgp-gp-only-hyperparameters.tex', escape=False)\n"
     ]
    },
    {
     "data": {
      "text/html": [
       "<div>\n",
       "<style scoped>\n",
       "    .dataframe tbody tr th:only-of-type {\n",
       "        vertical-align: middle;\n",
       "    }\n",
       "\n",
       "    .dataframe tbody tr th {\n",
       "        vertical-align: top;\n",
       "    }\n",
       "\n",
       "    .dataframe thead th {\n",
       "        text-align: right;\n",
       "    }\n",
       "</style>\n",
       "<table border=\"1\" class=\"dataframe\">\n",
       "  <thead>\n",
       "    <tr style=\"text-align: right;\">\n",
       "      <th></th>\n",
       "      <th>$\\gamma_1$</th>\n",
       "      <th>$\\ell_t$</th>\n",
       "      <th>$\\ell_{latlon}$</th>\n",
       "      <th>$\\ell_T$</th>\n",
       "      <th>$\\ell_P$</th>\n",
       "      <th>$\\ell_{RH}$</th>\n",
       "      <th>$\\ell_\\omega$</th>\n",
       "    </tr>\n",
       "  </thead>\n",
       "  <tbody>\n",
       "    <tr>\n",
       "      <th>mean</th>\n",
       "      <td>0.268129</td>\n",
       "      <td>6.612070</td>\n",
       "      <td>0.887976</td>\n",
       "      <td>2.614172</td>\n",
       "      <td>3.459010</td>\n",
       "      <td>3.372861</td>\n",
       "      <td>7.877330</td>\n",
       "    </tr>\n",
       "    <tr>\n",
       "      <th>std</th>\n",
       "      <td>0.017978</td>\n",
       "      <td>0.113539</td>\n",
       "      <td>0.040572</td>\n",
       "      <td>0.082568</td>\n",
       "      <td>0.067346</td>\n",
       "      <td>0.086094</td>\n",
       "      <td>0.290475</td>\n",
       "    </tr>\n",
       "  </tbody>\n",
       "</table>\n",
       "</div>"
      ],
      "text/plain": [
       "      $\\gamma_1$  $\\ell_t$  $\\ell_{latlon}$  $\\ell_T$  $\\ell_P$  $\\ell_{RH}$  \\\n",
       "mean    0.268129  6.612070         0.887976  2.614172  3.459010     3.372861   \n",
       "std     0.017978  0.113539         0.040572  0.082568  0.067346     0.086094   \n",
       "\n",
       "      $\\ell_\\omega$  \n",
       "mean       7.877330  \n",
       "std        0.290475  "
      ]
     },
     "execution_count": 9,
     "metadata": {},
     "output_type": "execute_result"
    }
   ],
   "source": [
    "svgp_paths = glob('../experiments/data/outputs/ablation/svgp-gp-only/seed_*')\n",
    "dfs = []\n",
    "for path in svgp_paths:\n",
    "    params_df = extract_params_svgp(os.path.join(path, 'state_dict.pt'))\n",
    "    dfs.append(params_df)\n",
    "params_df = pd.concat(dfs, axis=0).reset_index(drop=True)\n",
    "params_df = params_df.aggregate(['mean', 'std'])\n",
    "# params_df.to_latex('./tables/svgp-gp-only-hyperparameters.tex', escape=False)\n",
    "params_df"
   ]
  },
  {
   "cell_type": "markdown",
   "id": "75c8bbbc",
   "metadata": {},
   "source": [
    "## Spatiotemporal only"
   ]
  },
  {
   "cell_type": "code",
   "execution_count": 10,
   "id": "4fd5d5b5",
   "metadata": {},
   "outputs": [],
   "source": [
    "import ablations.run_svgp_spatiotemporal_only as main\n",
    "\n",
    "model = main.make_model(cfg, data)\n",
    "\n",
    "def extract_params_svgp(state_dict_path):\n",
    "    state_dict = torch.load(state_dict_path, map_location='cpu')\n",
    "    model.load_state_dict(state_dict)\n",
    "    gamma = np.nan\n",
    "    ltime = model.kernel.kernels[0].lengthscale[0][0].detach().item()\n",
    "    llatlon = model.kernel.kernels[1].lengthscale[0][0].detach().item() / hav_stddev\n",
    "    lT, lP, lRH, lomega = np.nan, np.nan, np.nan, np.nan\n",
    "    columns = [r'$\\gamma_1$', r'$\\ell_t$', r'$\\ell_{latlon}$',\n",
    "               r'$\\ell_T$', r'$\\ell_P$', r'$\\ell_{RH}$', r'$\\ell_\\omega$']\n",
    "    params_vals = [[gamma, ltime, llatlon, lT, lP, lRH, lomega]]\n",
    "    params_df = pd.DataFrame(data=params_vals, columns=columns)\n",
    "    return params_df"
   ]
  },
  {
   "cell_type": "code",
   "execution_count": 11,
   "id": "9580526c",
   "metadata": {},
   "outputs": [
    {
     "name": "stderr",
     "output_type": "stream",
     "text": [
      "/tmp/ipykernel_70798/111661997.py:8: FutureWarning: In future versions `DataFrame.to_latex` is expected to utilise the base implementation of `Styler.to_latex` for formatting and rendering. The arguments signature may therefore change. It is recommended instead to use `DataFrame.style.to_latex` which also contains additional functionality.\n",
      "  params_df.to_latex('./tables/svgp-spatiotemporal-only-hyperparameters.tex', escape=False)\n"
     ]
    },
    {
     "data": {
      "text/html": [
       "<div>\n",
       "<style scoped>\n",
       "    .dataframe tbody tr th:only-of-type {\n",
       "        vertical-align: middle;\n",
       "    }\n",
       "\n",
       "    .dataframe tbody tr th {\n",
       "        vertical-align: top;\n",
       "    }\n",
       "\n",
       "    .dataframe thead th {\n",
       "        text-align: right;\n",
       "    }\n",
       "</style>\n",
       "<table border=\"1\" class=\"dataframe\">\n",
       "  <thead>\n",
       "    <tr style=\"text-align: right;\">\n",
       "      <th></th>\n",
       "      <th>$\\gamma_1$</th>\n",
       "      <th>$\\ell_t$</th>\n",
       "      <th>$\\ell_{latlon}$</th>\n",
       "      <th>$\\ell_T$</th>\n",
       "      <th>$\\ell_P$</th>\n",
       "      <th>$\\ell_{RH}$</th>\n",
       "      <th>$\\ell_\\omega$</th>\n",
       "    </tr>\n",
       "  </thead>\n",
       "  <tbody>\n",
       "    <tr>\n",
       "      <th>mean</th>\n",
       "      <td>-</td>\n",
       "      <td>6.715111</td>\n",
       "      <td>1.077420</td>\n",
       "      <td>-</td>\n",
       "      <td>-</td>\n",
       "      <td>-</td>\n",
       "      <td>-</td>\n",
       "    </tr>\n",
       "    <tr>\n",
       "      <th>std</th>\n",
       "      <td>-</td>\n",
       "      <td>0.337456</td>\n",
       "      <td>0.019803</td>\n",
       "      <td>-</td>\n",
       "      <td>-</td>\n",
       "      <td>-</td>\n",
       "      <td>-</td>\n",
       "    </tr>\n",
       "  </tbody>\n",
       "</table>\n",
       "</div>"
      ],
      "text/plain": [
       "     $\\gamma_1$  $\\ell_t$  $\\ell_{latlon}$ $\\ell_T$ $\\ell_P$ $\\ell_{RH}$  \\\n",
       "mean          -  6.715111         1.077420        -        -           -   \n",
       "std           -  0.337456         0.019803        -        -           -   \n",
       "\n",
       "     $\\ell_\\omega$  \n",
       "mean             -  \n",
       "std              -  "
      ]
     },
     "execution_count": 11,
     "metadata": {},
     "output_type": "execute_result"
    }
   ],
   "source": [
    "svgp_paths = glob('../experiments/data/outputs/ablation/svgp-spatiotemporal-only/seed_*')\n",
    "dfs = []\n",
    "for path in svgp_paths:\n",
    "    params_df = extract_params_svgp(os.path.join(path, 'state_dict.pt'))\n",
    "    dfs.append(params_df)\n",
    "params_df = pd.concat(dfs, axis=0).reset_index(drop=True)\n",
    "params_df = params_df.aggregate(['mean', 'std']).fillna('-')\n",
    "# params_df.to_latex('./tables/svgp-spatiotemporal-only-hyperparameters.tex', escape=False)\n",
    "params_df"
   ]
  },
  {
   "cell_type": "markdown",
   "id": "409bcab4",
   "metadata": {},
   "source": [
    "## Meteorological only"
   ]
  },
  {
   "cell_type": "code",
   "execution_count": 12,
   "id": "80544442",
   "metadata": {},
   "outputs": [],
   "source": [
    "import ablations.run_svgp_meteorological_only as main\n",
    "\n",
    "model = main.make_model(cfg, data)\n",
    "\n",
    "def extract_params_svgp(state_dict_path):\n",
    "    state_dict = torch.load(state_dict_path, map_location='cpu')\n",
    "    model.load_state_dict(state_dict)\n",
    "    gamma = np.nan\n",
    "    ltime = np.nan\n",
    "    llatlon = np.nan\n",
    "    lP, lT, lRH, lomega = model.kernel.lengthscale[0].detach()\n",
    "    lP, lT, lRH, lomega = lP.item(), lT.item(), lRH.item(), lomega.item()\n",
    "    columns = [r'$\\gamma_1$', r'$\\ell_t$', r'$\\ell_{latlon}$',\n",
    "               r'$\\ell_T$', r'$\\ell_P$', r'$\\ell_{RH}$', r'$\\ell_\\omega$']\n",
    "    params_vals = [[gamma, ltime, llatlon, lT, lP, lRH, lomega]]\n",
    "    params_df = pd.DataFrame(data=params_vals, columns=columns)\n",
    "    return params_df"
   ]
  },
  {
   "cell_type": "code",
   "execution_count": 13,
   "id": "283d54dd",
   "metadata": {},
   "outputs": [
    {
     "name": "stderr",
     "output_type": "stream",
     "text": [
      "/tmp/ipykernel_70798/420966973.py:8: FutureWarning: In future versions `DataFrame.to_latex` is expected to utilise the base implementation of `Styler.to_latex` for formatting and rendering. The arguments signature may therefore change. It is recommended instead to use `DataFrame.style.to_latex` which also contains additional functionality.\n",
      "  params_df.to_latex('./tables/svgp-meteorological-only-hyperparameters.tex', escape=False)\n"
     ]
    },
    {
     "data": {
      "text/html": [
       "<div>\n",
       "<style scoped>\n",
       "    .dataframe tbody tr th:only-of-type {\n",
       "        vertical-align: middle;\n",
       "    }\n",
       "\n",
       "    .dataframe tbody tr th {\n",
       "        vertical-align: top;\n",
       "    }\n",
       "\n",
       "    .dataframe thead th {\n",
       "        text-align: right;\n",
       "    }\n",
       "</style>\n",
       "<table border=\"1\" class=\"dataframe\">\n",
       "  <thead>\n",
       "    <tr style=\"text-align: right;\">\n",
       "      <th></th>\n",
       "      <th>$\\gamma_1$</th>\n",
       "      <th>$\\ell_t$</th>\n",
       "      <th>$\\ell_{latlon}$</th>\n",
       "      <th>$\\ell_T$</th>\n",
       "      <th>$\\ell_P$</th>\n",
       "      <th>$\\ell_{RH}$</th>\n",
       "      <th>$\\ell_\\omega$</th>\n",
       "    </tr>\n",
       "  </thead>\n",
       "  <tbody>\n",
       "    <tr>\n",
       "      <th>mean</th>\n",
       "      <td>-</td>\n",
       "      <td>-</td>\n",
       "      <td>-</td>\n",
       "      <td>1.644091</td>\n",
       "      <td>3.002588</td>\n",
       "      <td>2.525721</td>\n",
       "      <td>6.807148</td>\n",
       "    </tr>\n",
       "    <tr>\n",
       "      <th>std</th>\n",
       "      <td>-</td>\n",
       "      <td>-</td>\n",
       "      <td>-</td>\n",
       "      <td>0.035216</td>\n",
       "      <td>0.065182</td>\n",
       "      <td>0.058375</td>\n",
       "      <td>0.117395</td>\n",
       "    </tr>\n",
       "  </tbody>\n",
       "</table>\n",
       "</div>"
      ],
      "text/plain": [
       "     $\\gamma_1$ $\\ell_t$ $\\ell_{latlon}$  $\\ell_T$  $\\ell_P$  $\\ell_{RH}$  \\\n",
       "mean          -        -               -  1.644091  3.002588     2.525721   \n",
       "std           -        -               -  0.035216  0.065182     0.058375   \n",
       "\n",
       "      $\\ell_\\omega$  \n",
       "mean       6.807148  \n",
       "std        0.117395  "
      ]
     },
     "execution_count": 13,
     "metadata": {},
     "output_type": "execute_result"
    }
   ],
   "source": [
    "svgp_paths = glob('../experiments/data/outputs/ablation/svgp-meteorological-only/seed_*')\n",
    "dfs = []\n",
    "for path in svgp_paths:\n",
    "    params_df = extract_params_svgp(os.path.join(path, 'state_dict.pt'))\n",
    "    dfs.append(params_df)\n",
    "params_df = pd.concat(dfs, axis=0).reset_index(drop=True)\n",
    "params_df = params_df.aggregate(['mean', 'std']).fillna('-')\n",
    "# params_df.to_latex('./tables/svgp-meteorological-only-hyperparameters.tex', escape=False)\n",
    "params_df"
   ]
  },
  {
   "cell_type": "markdown",
   "id": "a9077dc2",
   "metadata": {},
   "source": [
    "## Product kernel"
   ]
  },
  {
   "cell_type": "code",
   "execution_count": 14,
   "id": "842d2cba",
   "metadata": {},
   "outputs": [],
   "source": [
    "import ablations.run_svgp_product_kernel as main\n",
    "\n",
    "model = main.make_model(cfg, data)\n",
    "\n",
    "def extract_params_svgp(state_dict_path):\n",
    "    state_dict = torch.load(state_dict_path, map_location='cpu')\n",
    "    model.load_state_dict(state_dict)\n",
    "    gamma = model.kernel.kernels[0].outputscale.detach().item()\n",
    "    ltime = model.kernel.kernels[0].base_kernel.lengthscale[0][0].detach().item()\n",
    "    llatlon = model.kernel.kernels[1].lengthscale[0][0].detach().item() / hav_stddev\n",
    "    lP = model.kernel.kernels[2].lengthscale[0][0].detach().item()\n",
    "    lT = model.kernel.kernels[3].lengthscale[0][0].detach().item()\n",
    "    lRH = model.kernel.kernels[4].lengthscale[0][0].detach().item()\n",
    "    lomega = model.kernel.kernels[5].lengthscale[0][0].detach().item()\n",
    "    columns = [r'$\\gamma_1$', r'$\\ell_t$', r'$\\ell_{latlon}$',\n",
    "               r'$\\ell_T$', r'$\\ell_P$', r'$\\ell_{RH}$', r'$\\ell_\\omega$']\n",
    "    params_vals = [[gamma, ltime, llatlon, lT, lP, lRH, lomega]]\n",
    "    params_df = pd.DataFrame(data=params_vals, columns=columns)\n",
    "    return params_df"
   ]
  },
  {
   "cell_type": "code",
   "execution_count": 15,
   "id": "24cd998b",
   "metadata": {},
   "outputs": [
    {
     "name": "stderr",
     "output_type": "stream",
     "text": [
      "/tmp/ipykernel_70798/93995452.py:8: FutureWarning: In future versions `DataFrame.to_latex` is expected to utilise the base implementation of `Styler.to_latex` for formatting and rendering. The arguments signature may therefore change. It is recommended instead to use `DataFrame.style.to_latex` which also contains additional functionality.\n",
      "  params_df.to_latex('./tables/svgp-product-kernel-hyperparameters.tex', escape=False)\n"
     ]
    },
    {
     "data": {
      "text/html": [
       "<div>\n",
       "<style scoped>\n",
       "    .dataframe tbody tr th:only-of-type {\n",
       "        vertical-align: middle;\n",
       "    }\n",
       "\n",
       "    .dataframe tbody tr th {\n",
       "        vertical-align: top;\n",
       "    }\n",
       "\n",
       "    .dataframe thead th {\n",
       "        text-align: right;\n",
       "    }\n",
       "</style>\n",
       "<table border=\"1\" class=\"dataframe\">\n",
       "  <thead>\n",
       "    <tr style=\"text-align: right;\">\n",
       "      <th></th>\n",
       "      <th>$\\gamma_1$</th>\n",
       "      <th>$\\ell_t$</th>\n",
       "      <th>$\\ell_{latlon}$</th>\n",
       "      <th>$\\ell_T$</th>\n",
       "      <th>$\\ell_P$</th>\n",
       "      <th>$\\ell_{RH}$</th>\n",
       "      <th>$\\ell_\\omega$</th>\n",
       "    </tr>\n",
       "  </thead>\n",
       "  <tbody>\n",
       "    <tr>\n",
       "      <th>mean</th>\n",
       "      <td>0.919986</td>\n",
       "      <td>8.795509</td>\n",
       "      <td>1.205547</td>\n",
       "      <td>5.597897</td>\n",
       "      <td>6.177846</td>\n",
       "      <td>5.792094</td>\n",
       "      <td>8.324606</td>\n",
       "    </tr>\n",
       "    <tr>\n",
       "      <th>std</th>\n",
       "      <td>0.014222</td>\n",
       "      <td>0.072981</td>\n",
       "      <td>0.000567</td>\n",
       "      <td>0.133629</td>\n",
       "      <td>0.128613</td>\n",
       "      <td>0.089685</td>\n",
       "      <td>0.098687</td>\n",
       "    </tr>\n",
       "  </tbody>\n",
       "</table>\n",
       "</div>"
      ],
      "text/plain": [
       "      $\\gamma_1$  $\\ell_t$  $\\ell_{latlon}$  $\\ell_T$  $\\ell_P$  $\\ell_{RH}$  \\\n",
       "mean    0.919986  8.795509         1.205547  5.597897  6.177846     5.792094   \n",
       "std     0.014222  0.072981         0.000567  0.133629  0.128613     0.089685   \n",
       "\n",
       "      $\\ell_\\omega$  \n",
       "mean       8.324606  \n",
       "std        0.098687  "
      ]
     },
     "execution_count": 15,
     "metadata": {},
     "output_type": "execute_result"
    }
   ],
   "source": [
    "svgp_paths = glob('../experiments/data/outputs/ablation/svgp-product-kernel/seed_*')\n",
    "dfs = []\n",
    "for path in svgp_paths:\n",
    "    params_df = extract_params_svgp(os.path.join(path, 'state_dict.pt'))\n",
    "    dfs.append(params_df)\n",
    "params_df = pd.concat(dfs, axis=0).reset_index(drop=True)\n",
    "params_df = params_df.aggregate(['mean', 'std'])\n",
    "# params_df.to_latex('./tables/svgp-product-kernel-hyperparameters.tex', escape=False)\n",
    "params_df"
   ]
  },
  {
   "cell_type": "markdown",
   "id": "011551c6",
   "metadata": {},
   "source": [
    "## Additive kernel"
   ]
  },
  {
   "cell_type": "code",
   "execution_count": 16,
   "id": "a2460891",
   "metadata": {},
   "outputs": [],
   "source": [
    "import ablations.run_svgp_additive_kernel as main\n",
    "\n",
    "model = main.make_model(cfg, data)\n",
    "\n",
    "def extract_params_svgp(state_dict_path):\n",
    "    state_dict = torch.load(state_dict_path, map_location='cpu')\n",
    "    model.load_state_dict(state_dict)\n",
    "    gammatime = model.kernel.kernels[0].outputscale.detach().item()\n",
    "    ltime = model.kernel.kernels[0].base_kernel.lengthscale[0][0].detach().item()\n",
    "    \n",
    "    gammalatlon = model.kernel.kernels[1].outputscale.detach().item()\n",
    "    llatlon = model.kernel.kernels[1].base_kernel.lengthscale[0][0].detach().item() / hav_stddev\n",
    "    \n",
    "    gammaP = model.kernel.kernels[2].outputscale.detach().item()\n",
    "    lP = model.kernel.kernels[2].base_kernel.lengthscale[0][0].detach().item()\n",
    "    \n",
    "    gammaT = model.kernel.kernels[3].outputscale.detach().item()\n",
    "    lT = model.kernel.kernels[3].base_kernel.lengthscale[0][0].detach().item()\n",
    "\n",
    "    gammaRH = model.kernel.kernels[4].outputscale.detach().item()\n",
    "    lRH = model.kernel.kernels[4].base_kernel.lengthscale[0][0].detach().item()\n",
    "    \n",
    "    gammaomega = model.kernel.kernels[5].outputscale.detach().item()\n",
    "    lomega = model.kernel.kernels[5].base_kernel.lengthscale[0][0].detach().item()\n",
    "    \n",
    "    columns = [r'$\\gamma_t$', r'$\\gamma_{latlon}$', r'$\\gamma_T$', r'$\\gamma_P$', r'$\\gamma_{RH}$', r'$\\gamma_\\omega$',\n",
    "               r'$\\ell_t$', r'$\\ell_{latlon}$', r'$\\ell_T$', r'$\\ell_P$', r'$\\ell_{RH}$', r'$\\ell_\\omega$']\n",
    "    params_vals = [[gammatime, gammalatlon, gammaT, gammaP, gammaRH, gammaomega,\n",
    "                    ltime, llatlon, lT, lP, lRH, lomega]]\n",
    "    params_df = pd.DataFrame(data=params_vals, columns=columns)\n",
    "    return params_df"
   ]
  },
  {
   "cell_type": "code",
   "execution_count": 17,
   "id": "f7879a15",
   "metadata": {},
   "outputs": [
    {
     "name": "stderr",
     "output_type": "stream",
     "text": [
      "/tmp/ipykernel_70798/511192269.py:7: FutureWarning: In future versions `DataFrame.to_latex` is expected to utilise the base implementation of `Styler.to_latex` for formatting and rendering. The arguments signature may therefore change. It is recommended instead to use `DataFrame.style.to_latex` which also contains additional functionality.\n",
      "  params_df.to_latex('./tables/svgp-additive-kernel-hyperparameters.tex', escape=False)\n"
     ]
    },
    {
     "data": {
      "text/html": [
       "<div>\n",
       "<style scoped>\n",
       "    .dataframe tbody tr th:only-of-type {\n",
       "        vertical-align: middle;\n",
       "    }\n",
       "\n",
       "    .dataframe tbody tr th {\n",
       "        vertical-align: top;\n",
       "    }\n",
       "\n",
       "    .dataframe thead th {\n",
       "        text-align: right;\n",
       "    }\n",
       "</style>\n",
       "<table border=\"1\" class=\"dataframe\">\n",
       "  <thead>\n",
       "    <tr style=\"text-align: right;\">\n",
       "      <th></th>\n",
       "      <th>$\\gamma_t$</th>\n",
       "      <th>$\\gamma_{latlon}$</th>\n",
       "      <th>$\\gamma_T$</th>\n",
       "      <th>$\\gamma_P$</th>\n",
       "      <th>$\\gamma_{RH}$</th>\n",
       "      <th>$\\gamma_\\omega$</th>\n",
       "      <th>$\\ell_t$</th>\n",
       "      <th>$\\ell_{latlon}$</th>\n",
       "      <th>$\\ell_T$</th>\n",
       "      <th>$\\ell_P$</th>\n",
       "      <th>$\\ell_{RH}$</th>\n",
       "      <th>$\\ell_\\omega$</th>\n",
       "    </tr>\n",
       "  </thead>\n",
       "  <tbody>\n",
       "    <tr>\n",
       "      <th>mean</th>\n",
       "      <td>1.483759</td>\n",
       "      <td>0.252393</td>\n",
       "      <td>0.436381</td>\n",
       "      <td>0.32873</td>\n",
       "      <td>0.206365</td>\n",
       "      <td>0.135793</td>\n",
       "      <td>4.389093</td>\n",
       "      <td>0.604549</td>\n",
       "      <td>3.401802</td>\n",
       "      <td>3.062854</td>\n",
       "      <td>3.311474</td>\n",
       "      <td>4.177647</td>\n",
       "    </tr>\n",
       "    <tr>\n",
       "      <th>std</th>\n",
       "      <td>NaN</td>\n",
       "      <td>NaN</td>\n",
       "      <td>NaN</td>\n",
       "      <td>NaN</td>\n",
       "      <td>NaN</td>\n",
       "      <td>NaN</td>\n",
       "      <td>NaN</td>\n",
       "      <td>NaN</td>\n",
       "      <td>NaN</td>\n",
       "      <td>NaN</td>\n",
       "      <td>NaN</td>\n",
       "      <td>NaN</td>\n",
       "    </tr>\n",
       "  </tbody>\n",
       "</table>\n",
       "</div>"
      ],
      "text/plain": [
       "      $\\gamma_t$  $\\gamma_{latlon}$  $\\gamma_T$  $\\gamma_P$  $\\gamma_{RH}$  \\\n",
       "mean    1.483759           0.252393    0.436381     0.32873       0.206365   \n",
       "std          NaN                NaN         NaN         NaN            NaN   \n",
       "\n",
       "      $\\gamma_\\omega$  $\\ell_t$  $\\ell_{latlon}$  $\\ell_T$  $\\ell_P$  \\\n",
       "mean         0.135793  4.389093         0.604549  3.401802  3.062854   \n",
       "std               NaN       NaN              NaN       NaN       NaN   \n",
       "\n",
       "      $\\ell_{RH}$  $\\ell_\\omega$  \n",
       "mean     3.311474       4.177647  \n",
       "std           NaN            NaN  "
      ]
     },
     "execution_count": 17,
     "metadata": {},
     "output_type": "execute_result"
    }
   ],
   "source": [
    "svgp_paths = glob('../experiments/data/outputs/ablation/svgp-additive-kernel/seed_*')\n",
    "dfs = []\n",
    "for path in svgp_paths:\n",
    "    params_df = extract_params_svgp(os.path.join(path, 'state_dict.pt'))\n",
    "    dfs.append(params_df)\n",
    "params_df = params_df.aggregate(['mean', 'std'])\n",
    "# params_df.to_latex('./tables/svgp-additive-kernel-hyperparameters.tex', escape=False)\n",
    "params_df"
   ]
  },
  {
   "cell_type": "code",
   "execution_count": null,
   "id": "cba617d0",
   "metadata": {},
   "outputs": [],
   "source": []
  }
 ],
 "metadata": {
  "kernelspec": {
   "display_name": "sandbox",
   "language": "python",
   "name": "sandbox"
  },
  "language_info": {
   "codemirror_mode": {
    "name": "ipython",
    "version": 3
   },
   "file_extension": ".py",
   "mimetype": "text/x-python",
   "name": "python",
   "nbconvert_exporter": "python",
   "pygments_lexer": "ipython3",
   "version": "3.8.0"
  }
 },
 "nbformat": 4,
 "nbformat_minor": 5
}
