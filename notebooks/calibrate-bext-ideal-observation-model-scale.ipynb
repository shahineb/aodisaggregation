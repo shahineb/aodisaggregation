{
 "cells": [
  {
   "cell_type": "code",
   "execution_count": 1,
   "metadata": {},
   "outputs": [],
   "source": [
    "import os\n",
    "import sys\n",
    "import yaml\n",
    "import torch\n",
    "import tqdm\n",
    "import numpy as np\n",
    "import matplotlib.pyplot as plt\n",
    "\n",
    "base_dir = os.path.join(os.getcwd(), '..')\n",
    "sys.path.append(base_dir)\n",
    "\n",
    "import src.preprocessing as preproc\n",
    "from src.models import *"
   ]
  },
  {
   "cell_type": "code",
   "execution_count": 2,
   "metadata": {},
   "outputs": [],
   "source": [
    "# Load config file\n",
    "with open('../config/ideal.yaml', \"r\") as f:\n",
    "    cfg = yaml.safe_load(f)\n",
    "cfg['dataset']['path'] = '../data/aodisaggregation_emmisions_test_6.3_ACCMIP_200806.06_echam.nc'\n",
    "\n",
    "# Load dataset\n",
    "data = preproc.make_data(cfg=cfg, include_2d=False)"
   ]
  },
  {
   "cell_type": "code",
   "execution_count": 3,
   "metadata": {},
   "outputs": [],
   "source": [
    "# Choose a calibration columns to evaluate model over\n",
    "torch.random.manual_seed(cfg['evaluation']['calibration_seed'])\n",
    "calib_idx = torch.randperm(len(data.h_by_column_std))[:200]\n",
    "\n",
    "# Predict idealized exponential height profile\n",
    "L = cfg['model']['L']\n",
    "h_stddev = data.h_by_column.std()\n",
    "prediction_3d = torch.exp(-data.h_by_column_std[calib_idx] / L)\n",
    "\n",
    "# Rescale predictions by τ/∫φdh\n",
    "aggregate_prediction = h_stddev * L * (torch.exp(-data.h_by_column_std[:, -1] / L) - torch.exp(-data.h_by_column_std[:, 0] / L))\n",
    "correction = data.z_smooth[calib_idx] / aggregate_prediction[calib_idx]\n",
    "prediction_3d = prediction_3d.mul(correction.unsqueeze(-1))"
   ]
  },
  {
   "cell_type": "code",
   "execution_count": 4,
   "metadata": {},
   "outputs": [],
   "source": [
    "# Rescale distribution variance without shifting mean\n",
    "def make_bext_dist(prediction_3d, sigma_ext):\n",
    "    eps = torch.finfo(torch.float64).eps\n",
    "    loc = torch.log(prediction_3d.clip(min=eps)) - sigma_ext.square().div(2)\n",
    "    bext_dist = torch.distributions.LogNormal(loc=loc, scale=sigma_ext)\n",
    "    return bext_dist\n",
    "\n",
    "# Compute calibration plots for given region sizes\n",
    "def compute_calibrations(bext_dist, sizes):\n",
    "    calibration = []\n",
    "    mu = bext_dist.mean\n",
    "    for size in sizes:\n",
    "        q_lb = (1 - size) / 2\n",
    "        q_ub = 1 - q_lb\n",
    "        lb = bext_dist.icdf(torch.tensor(q_lb))\n",
    "        ub = bext_dist.icdf(torch.tensor(q_ub))\n",
    "        lb_mask = data.gt_by_column[calib_idx] > lb\n",
    "        ub_mask = data.gt_by_column[calib_idx] < ub\n",
    "        region_mask = lb_mask & ub_mask\n",
    "        calibration.append(region_mask.float().mean().item())\n",
    "    return np.asarray(calibration)\n",
    "\n",
    "# Compute deviation from perfect calibration\n",
    "def ICI(calibration, sizes):\n",
    "    return np.abs(calibration - sizes).mean()"
   ]
  },
  {
   "cell_type": "code",
   "execution_count": 5,
   "metadata": {},
   "outputs": [
    {
     "data": {
      "application/vnd.jupyter.widget-view+json": {
       "model_id": "4ccfffb1dfff48bcab469fd2a4703a82",
       "version_major": 2,
       "version_minor": 0
      },
      "text/plain": [
       "HBox(children=(HTML(value=''), FloatProgress(value=0.0, max=499.0), HTML(value='')))"
      ]
     },
     "metadata": {},
     "output_type": "display_data"
    },
    {
     "name": "stdout",
     "output_type": "stream",
     "text": [
      "\n"
     ]
    }
   ],
   "source": [
    "# Range of shapes for bext\n",
    "sigma_exts = np.arange(0.01, 5, 0.01)\n",
    "sigma_ext_iters = tqdm.notebook.tqdm(sigma_exts)\n",
    "\n",
    "# Confidence region sizes to consider\n",
    "sizes = np.arange(0.05, 1.0, 0.2)\n",
    "\n",
    "integrals = []\n",
    "for sigma_ext in sigma_ext_iters:\n",
    "    sigma_ext = torch.tensor(sigma_ext)\n",
    "    bext_dist = make_bext_dist(prediction_3d, sigma_ext)\n",
    "    calibration = compute_calibrations(bext_dist, sizes)\n",
    "    integrals.append(ICI(calibration, sizes))\n",
    "integrals = np.asarray(integrals)"
   ]
  },
  {
   "cell_type": "code",
   "execution_count": 6,
   "metadata": {},
   "outputs": [
    {
     "data": {
      "image/png": "[encoded data removed]",
      "text/plain": [
       "<Figure size 720x720 with 1 Axes>"
      ]
     },
     "metadata": {
      "needs_background": "light"
     },
     "output_type": "display_data"
    }
   ],
   "source": [
    "fig, ax = plt.subplots(1, 1, figsize=(10, 10))\n",
    "\n",
    "best_scale = sigma_exts[np.argmin(integrals)]\n",
    "ax.plot(sigma_exts, integrals, '--o', label=f'min = {best_scale:.3f}')\n",
    "\n",
    "ax.set_xlabel(r'$\\sigma_{ext}$', fontsize=16)\n",
    "ax.set_ylabel(r'$\\int$ |calibration_plot$(x) - x|dx$ ', fontsize=16)\n",
    "ax.grid(alpha=0.4)\n",
    "plt.legend(fontsize=18)\n",
    "plt.show()"
   ]
  }
 ],
 "metadata": {
  "kernelspec": {
   "display_name": "torch-kernel",
   "language": "python",
   "name": "torch-3.8-kernel"
  },
  "language_info": {
   "codemirror_mode": {
    "name": "ipython",
    "version": 3
   },
   "file_extension": ".py",
   "mimetype": "text/x-python",
   "name": "python",
   "nbconvert_exporter": "python",
   "pygments_lexer": "ipython3",
   "version": "3.8.0"
  }
 },
 "nbformat": 4,
 "nbformat_minor": 4
}
