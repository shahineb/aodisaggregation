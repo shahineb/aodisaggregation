{
 "cells": [
  {
   "cell_type": "code",
   "execution_count": 1,
   "metadata": {},
   "outputs": [],
   "source": [
    "import os\n",
    "import sys\n",
    "import yaml\n",
    "import torch\n",
    "from gpytorch import kernels, distributions\n",
    "import numpy as np\n",
    "import matplotlib.pyplot as plt\n",
    "import tqdm\n",
    "\n",
    "base_dir = os.path.join(os.getcwd(), '..')\n",
    "sys.path.append(base_dir)\n",
    "\n",
    "import src.preprocessing as preproc\n",
    "from src.models import *"
   ]
  },
  {
   "cell_type": "markdown",
   "metadata": {},
   "source": [
    "## Load dataset and fitted model"
   ]
  },
  {
   "cell_type": "code",
   "execution_count": 2,
   "metadata": {},
   "outputs": [],
   "source": [
    "# Load config file\n",
    "with open('../config/svgp.yaml', \"r\") as f:\n",
    "    cfg = yaml.safe_load(f)\n",
    "cfg['dataset']['path'] = '../data/aodisaggregation_emmisions_test_6.3_ACCMIP_200806.06_echam.nc'\n",
    "\n",
    "# Load dataset\n",
    "data = preproc.make_data(cfg=cfg, include_2d=False)"
   ]
  },
  {
   "cell_type": "code",
   "execution_count": 4,
   "metadata": {},
   "outputs": [
    {
     "data": {
      "text/plain": [
       "<All keys matched successfully>"
      ]
     },
     "execution_count": 4,
     "metadata": {},
     "output_type": "execute_result"
    }
   ],
   "source": [
    "# Define kernel\n",
    "time_kernel = kernels.MaternKernel(nu=1.5, ard_num_dims=1, active_dims=[0])\n",
    "latlon_kernel = kernels.ScaleKernel(kernels.MaternKernel(nu=1.5, ard_num_dims=2, active_dims=[2, 3]))\n",
    "meteo_kernel = kernels.MaternKernel(nu=0.5, ard_num_dims=4, active_dims=[4, 5, 6, 7])\n",
    "kernel = time_kernel * latlon_kernel + meteo_kernel\n",
    "\n",
    "# Define aggregation operator\n",
    "def trpz(grid):\n",
    "    aggregated_grid = -torch.trapz(y=grid, x=data.h_by_column.unsqueeze(-1), dim=-2)\n",
    "    return aggregated_grid\n",
    "\n",
    "# Initialize inducing points regularly across grid\n",
    "torch.random.manual_seed(cfg['model']['seed'])\n",
    "lowaltitude_x_std = data.x_std[data.x_std[:, -1] < -cfg['model']['lbda']]\n",
    "rdm_idx = torch.randperm(len(lowaltitude_x_std))[:cfg['model']['n_inducing_points']]\n",
    "inducing_points = lowaltitude_x_std[rdm_idx]\n",
    "\n",
    "# Initialize model\n",
    "model = AggregateGammaSVGP(inducing_points=inducing_points,\n",
    "                           transform=torch.exp,\n",
    "                           kernel=kernel,\n",
    "                           aggregate_fn=trpz,\n",
    "                           fit_intercept=cfg['model']['fit_intercept'])\n",
    "\n",
    "# Load state dict\n",
    "state_dict = torch.load('../sandbox/outputs/dev/svgp/state_dict.pt')\n",
    "model.load_state_dict(state_dict)"
   ]
  },
  {
   "cell_type": "markdown",
   "metadata": {},
   "source": [
    "### Infer $\\varphi|\\mathbf{\\tau}$ over 50 calibration columns"
   ]
  },
  {
   "cell_type": "code",
   "execution_count": 5,
   "metadata": {},
   "outputs": [
    {
     "data": {
      "application/vnd.jupyter.widget-view+json": {
       "model_id": "d4a6681b416242e5ac9f345fbc250e6e",
       "version_major": 2,
       "version_minor": 0
      },
      "text/plain": [
       "HBox(children=(HTML(value=''), FloatProgress(value=0.0, max=1.0), HTML(value='')))"
      ]
     },
     "metadata": {},
     "output_type": "display_data"
    },
    {
     "name": "stdout",
     "output_type": "stream",
     "text": [
      "\n"
     ]
    }
   ],
   "source": [
    "# Choose a calibration columns to evaluate model over\n",
    "torch.random.manual_seed(cfg['evaluation']['calibration_seed'])\n",
    "calib_idx = torch.randperm(len(data.h_by_column_std))[:50]\n",
    "\n",
    "# Initialize empty tensors\n",
    "prediction_3d_means = torch.zeros_like(data.h_by_column_std[calib_idx])\n",
    "prediction_3d_stddevs = torch.zeros_like(data.h_by_column_std[calib_idx])\n",
    "h_stddev = data.h_by_column.std()\n",
    "\n",
    "# Setup index iteration and progress bar\n",
    "indices = torch.arange(len(data.x_by_column_std[calib_idx]))\n",
    "n_samples = len(data.z[calib_idx])\n",
    "lbda = cfg['model']['lbda']\n",
    "batch_size = cfg['evaluation']['batch_size']\n",
    "\n",
    "with torch.no_grad():\n",
    "    batch_iter = tqdm.notebook.tqdm(indices.split(batch_size))\n",
    "    for idx in batch_iter:\n",
    "        # Predict on standardized 3D covariates\n",
    "        qf_by_column = model(data.x_by_column_std[idx])\n",
    "\n",
    "        # Register in grid\n",
    "        prediction_3d_means[idx] = qf_by_column.mean - lbda * data.h_by_column_std[idx]\n",
    "        prediction_3d_stddevs[idx] = qf_by_column.stddev\n",
    "\n",
    "    # Make up for height standardization in integration\n",
    "    prediction_3d_means.sub_(torch.log(h_stddev))\n",
    "\n",
    "    # Rescale predictions by τ/∫φdh\n",
    "    def trpz(grid):\n",
    "        aggregated_grid = -torch.trapz(y=grid, x=data.h_by_column[calib_idx].unsqueeze(-1).cpu(), dim=-2)\n",
    "        return aggregated_grid\n",
    "    φ = torch.exp(prediction_3d_means + 0.5 * prediction_3d_stddevs.square())\n",
    "    aggregate_prediction_2d = trpz(φ.unsqueeze(-1)).squeeze()\n",
    "    correction = torch.log(data.z[calib_idx]) - torch.log(aggregate_prediction_2d)\n",
    "    prediction_3d_means.add_(correction.unsqueeze(-1))\n",
    "    \n",
    "    # Make distribution\n",
    "    prediction_3d_dist = torch.distributions.LogNormal(prediction_3d_means, prediction_3d_stddevs)"
   ]
  },
  {
   "cell_type": "markdown",
   "metadata": {},
   "source": [
    "### Compute ICI on a range of values for $\\alpha_b$"
   ]
  },
  {
   "cell_type": "code",
   "execution_count": 6,
   "metadata": {},
   "outputs": [],
   "source": [
    "# Sample from bext observation model\n",
    "def sample_bext(prediction_3d_dist, alpha_bext, n_samples):\n",
    "    φ = prediction_3d_dist.sample((n_samples,))\n",
    "    beta_bext = alpha_bext.div(φ)\n",
    "    bext = torch.distributions.Gamma(alpha_bext, beta_bext).sample().float()\n",
    "    return bext\n",
    "\n",
    "# Compute confidence region lower and upper bounds\n",
    "def get_cr_bounds(bext, size):\n",
    "    q_lb = (1 - float(size)) / 2\n",
    "    q_ub = 1 - q_lb\n",
    "    lb, ub = torch.quantile(bext, q=torch.tensor([q_lb, q_ub]), dim=0)\n",
    "    return lb, ub\n",
    "\n",
    "# Compute calibration plots for given region sizes\n",
    "def compute_calibrations(prediction_3d_dist, sizes, alpha_bext, n_samples):\n",
    "    calibration = []\n",
    "    bext = sample_bext(prediction_3d_dist, alpha_bext, n_samples)\n",
    "    for size in sizes:\n",
    "        lb, ub = get_cr_bounds(bext, size)\n",
    "        lb_mask = data.gt_by_column[calib_idx] > lb\n",
    "        ub_mask = data.gt_by_column[calib_idx] < ub\n",
    "        cr_mask = lb_mask & ub_mask\n",
    "        calibration.append(cr_mask.float().mean().item())\n",
    "    return np.asarray(calibration)\n",
    "\n",
    "# Compute integral calibration index\n",
    "def ICI(calibration, sizes):\n",
    "    return np.abs(calibration - sizes).mean()"
   ]
  },
  {
   "cell_type": "code",
   "execution_count": 7,
   "metadata": {},
   "outputs": [
    {
     "data": {
      "application/vnd.jupyter.widget-view+json": {
       "model_id": "223c332c0250408f888daaf7d7ec5dee",
       "version_major": 2,
       "version_minor": 0
      },
      "text/plain": [
       "HBox(children=(HTML(value=''), FloatProgress(value=0.0, max=149.0), HTML(value='')))"
      ]
     },
     "metadata": {},
     "output_type": "display_data"
    },
    {
     "name": "stdout",
     "output_type": "stream",
     "text": [
      "\n"
     ]
    }
   ],
   "source": [
    "# Range of shapes for bext\n",
    "alphas = np.arange(0.01, 1.5, 0.01)\n",
    "alpha_iters = tqdm.notebook.tqdm(alphas)\n",
    "\n",
    "# Confidence region sizes to consider\n",
    "sizes = np.arange(0.05, 1.0, 0.2)\n",
    "\n",
    "# Number of samples to construct empirical confidence regions\n",
    "n_samples = 256\n",
    "\n",
    "integrals = []\n",
    "for alpha in alpha_iters:\n",
    "    alpha_bext = torch.tensor(alpha)\n",
    "    calibration = compute_calibrations(prediction_3d_dist, sizes, alpha_bext, n_samples)\n",
    "    integrals.append(ICI(calibration, sizes))\n",
    "integrals = np.asarray(integrals)"
   ]
  },
  {
   "cell_type": "code",
   "execution_count": 8,
   "metadata": {},
   "outputs": [
    {
     "data": {
      "text/plain": [
       "<matplotlib.legend.Legend at 0x13e6a0610>"
      ]
     },
     "execution_count": 8,
     "metadata": {},
     "output_type": "execute_result"
    },
    {
     "data": {
      "image/png": "[encoded data removed]",
      "text/plain": [
       "<Figure size 720x720 with 1 Axes>"
      ]
     },
     "metadata": {
      "needs_background": "light"
     },
     "output_type": "display_data"
    }
   ],
   "source": [
    "fig, ax = plt.subplots(1, 1, figsize=(10, 10))\n",
    "\n",
    "best_shape = alphas[np.argmin(integrals)]\n",
    "ax.plot(alphas, integrals, '--o', label=f'min = {best_shape:.1f}')\n",
    "\n",
    "ax.set_xlabel(r'$\\alpha_b$', fontsize=16)\n",
    "ax.set_ylabel(r'$\\int$ |calibration_plot$(x) - x|dx$ ', fontsize=16)\n",
    "ax.grid(alpha=0.4)\n",
    "plt.legend(fontsize=18)"
   ]
  },
  {
   "cell_type": "markdown",
   "metadata": {},
   "source": [
    "## Plot calibration plot with chosen $\\alpha_b$"
   ]
  },
  {
   "cell_type": "code",
   "execution_count": 9,
   "metadata": {},
   "outputs": [
    {
     "data": {
      "application/vnd.jupyter.widget-view+json": {
       "model_id": "b645eb4f8f0d481ba773c4a1f9240262",
       "version_major": 2,
       "version_minor": 0
      },
      "text/plain": [
       "HBox(children=(HTML(value=''), FloatProgress(value=0.0, max=20.0), HTML(value='')))"
      ]
     },
     "metadata": {},
     "output_type": "display_data"
    },
    {
     "name": "stdout",
     "output_type": "stream",
     "text": [
      "\n"
     ]
    }
   ],
   "source": [
    "# Choose random columns different from calibration ones\n",
    "torch.random.manual_seed(cfg['evaluation']['calibration_seed'])\n",
    "rdm_idx = torch.randperm(len(data.h_by_column_std))[50:1050]\n",
    "\n",
    "# Initialize empty tensors\n",
    "prediction_3d_means = torch.zeros_like(data.h_by_column_std[rdm_idx])\n",
    "prediction_3d_stddevs = torch.zeros_like(data.h_by_column_std[rdm_idx])\n",
    "h_stddev = data.h_by_column.std()\n",
    "\n",
    "# Setup index iteration and progress bar\n",
    "indices = torch.arange(len(data.x_by_column_std[rdm_idx]))\n",
    "n_samples = len(data.z[calib_idx])\n",
    "lbda = cfg['model']['lbda']\n",
    "batch_size = cfg['evaluation']['batch_size']\n",
    "\n",
    "with torch.no_grad():\n",
    "    batch_iter = tqdm.notebook.tqdm(indices.split(batch_size))\n",
    "    for idx in batch_iter:\n",
    "        # Predict on standardized 3D covariates\n",
    "        qf_by_column = model(data.x_by_column_std[idx])\n",
    "\n",
    "        # Register in grid\n",
    "        prediction_3d_means[idx] = qf_by_column.mean - lbda * data.h_by_column_std[idx]\n",
    "        prediction_3d_stddevs[idx] = qf_by_column.stddev\n",
    "\n",
    "    # Make up for height standardization in integration\n",
    "    prediction_3d_means.sub_(torch.log(h_stddev))\n",
    "\n",
    "    # Rescale predictions by τ/∫φdh\n",
    "    def trpz(grid):\n",
    "        aggregated_grid = -torch.trapz(y=grid, x=data.h_by_column[rdm_idx].unsqueeze(-1).cpu(), dim=-2)\n",
    "        return aggregated_grid\n",
    "    φ = torch.exp(prediction_3d_means + 0.5 * prediction_3d_stddevs.square())\n",
    "    aggregate_prediction_2d = trpz(φ.unsqueeze(-1)).squeeze()\n",
    "    correction = torch.log(data.z[rdm_idx]) - torch.log(aggregate_prediction_2d)\n",
    "    prediction_3d_means.add_(correction.unsqueeze(-1))\n",
    "    \n",
    "    # Make distribution\n",
    "    prediction_3d_dist = torch.distributions.LogNormal(prediction_3d_means, prediction_3d_stddevs)"
   ]
  },
  {
   "cell_type": "code",
   "execution_count": 11,
   "metadata": {},
   "outputs": [
    {
     "data": {
      "application/vnd.jupyter.widget-view+json": {
       "model_id": "3b041a87034e4f9c8ea3f71eb4ee3b0f",
       "version_major": 2,
       "version_minor": 0
      },
      "text/plain": [
       "HBox(children=(HTML(value=''), FloatProgress(value=0.0, max=19.0), HTML(value='')))"
      ]
     },
     "metadata": {},
     "output_type": "display_data"
    },
    {
     "name": "stdout",
     "output_type": "stream",
     "text": [
      "\n"
     ]
    }
   ],
   "source": [
    "# Confidence region sizes to consider\n",
    "sizes = np.arange(0.05, 1.0, 0.05)\n",
    "sizes_iter = tqdm.notebook.tqdm(sizes)\n",
    "\n",
    "# Number of samples to construct empirical confidence regions\n",
    "n_samples = 256\n",
    "\n",
    "# Set observation model shape parameter\n",
    "alpha_bext = torch.tensor(0.4)\n",
    "\n",
    "# Compute calibration scores for each confidence region size\n",
    "calibration = []\n",
    "bext = sample_bext(prediction_3d_dist, alpha_bext, n_samples)\n",
    "for size in sizes_iter:\n",
    "    lb, ub = get_cr_bounds(bext, size)\n",
    "    lb_mask = data.gt_by_column[rdm_idx] > lb\n",
    "    ub_mask = data.gt_by_column[rdm_idx] < ub\n",
    "    cr_mask = lb_mask & ub_mask\n",
    "    calibration.append(cr_mask.float().mean().item())"
   ]
  },
  {
   "cell_type": "code",
   "execution_count": 12,
   "metadata": {},
   "outputs": [
    {
     "data": {
      "text/plain": [
       "<matplotlib.legend.Legend at 0x13ea1cfd0>"
      ]
     },
     "execution_count": 12,
     "metadata": {},
     "output_type": "execute_result"
    },
    {
     "data": {
      "image/png": "[encoded data removed]",
      "text/plain": [
       "<Figure size 720x720 with 1 Axes>"
      ]
     },
     "metadata": {
      "needs_background": "light"
     },
     "output_type": "display_data"
    }
   ],
   "source": [
    "fig, ax = plt.subplots(1, 1, figsize=(10, 10))\n",
    "\n",
    "ax.plot(sizes, sizes, 'k--', alpha=0.5)\n",
    "ax.plot(sizes, calibration, '--o', label=f'ICI = {ICI(calibration, sizes):.3f}')\n",
    "\n",
    "ax.set_xlabel('Confidence region size', fontsize=16)\n",
    "ax.set_ylabel('% Test samples within region', fontsize=16)\n",
    "ax.grid(alpha=0.4)\n",
    "\n",
    "plt.legend(fontsize=18)"
   ]
  }
 ],
 "metadata": {
  "kernelspec": {
   "display_name": "torch-kernel",
   "language": "python",
   "name": "torch-3.8-kernel"
  },
  "language_info": {
   "codemirror_mode": {
    "name": "ipython",
    "version": 3
   },
   "file_extension": ".py",
   "mimetype": "text/x-python",
   "name": "python",
   "nbconvert_exporter": "python",
   "pygments_lexer": "ipython3",
   "version": "3.8.0"
  }
 },
 "nbformat": 4,
 "nbformat_minor": 4
}
