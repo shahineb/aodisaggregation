{
 "cells": [
  {
   "cell_type": "code",
   "execution_count": 1,
   "metadata": {},
   "outputs": [],
   "source": [
    "import os\n",
    "import sys\n",
    "import yaml\n",
    "import torch\n",
    "from gpytorch import kernels, distributions\n",
    "import numpy as np\n",
    "import matplotlib.pyplot as plt\n",
    "import tqdm\n",
    "\n",
    "base_dir = os.path.join(os.getcwd(), '..')\n",
    "sys.path.append(base_dir)\n",
    "\n",
    "import src.preprocessing as preproc\n",
    "from src.models import *"
   ]
  },
  {
   "cell_type": "markdown",
   "metadata": {},
   "source": [
    "## Load dataset and fitted model"
   ]
  },
  {
   "cell_type": "code",
   "execution_count": 2,
   "metadata": {},
   "outputs": [],
   "source": [
    "# Load config file\n",
    "with open('../config/svgp.yaml', \"r\") as f:\n",
    "    cfg = yaml.safe_load(f)\n",
    "cfg['dataset']['path'] = '../data/aodisaggregation_emmisions_test_6.3_ACCMIP_200806.06_echam.nc'\n",
    "\n",
    "# Load dataset\n",
    "data = preproc.make_data(cfg=cfg, include_2d=False)"
   ]
  },
  {
   "cell_type": "code",
   "execution_count": 5,
   "metadata": {},
   "outputs": [
    {
     "data": {
      "text/plain": [
       "<All keys matched successfully>"
      ]
     },
     "execution_count": 5,
     "metadata": {},
     "output_type": "execute_result"
    }
   ],
   "source": [
    "# Define kernel\n",
    "time_kernel = kernels.MaternKernel(nu=1.5, ard_num_dims=1, active_dims=[0])\n",
    "lat_kernel = kernels.MaternKernel(nu=1.5, ard_num_dims=1, active_dims=[2])\n",
    "lon_kernel = kernels.ScaleKernel(kernels.MaternKernel(nu=1.5, ard_num_dims=1, active_dims=[3]))\n",
    "meteo_kernel = kernels.MaternKernel(nu=0.5, ard_num_dims=4, active_dims=[4, 5, 6, 7])\n",
    "kernel = time_kernel * lat_kernel * lon_kernel + meteo_kernel\n",
    "\n",
    "# Define aggregation operator\n",
    "def trpz(grid):\n",
    "    aggregated_grid = -torch.trapz(y=grid, x=data.h_by_column.unsqueeze(-1), dim=-2)\n",
    "    return aggregated_grid\n",
    "\n",
    "# Initialize inducing points regularly across grid\n",
    "torch.random.manual_seed(cfg['model']['seed'])\n",
    "lowaltitude_x_std = data.x_std[data.x_std[:, -1] < -cfg['model']['L']]\n",
    "rdm_idx = torch.randperm(len(lowaltitude_x_std))[:cfg['model']['n_inducing_points']]\n",
    "inducing_points = lowaltitude_x_std[rdm_idx]\n",
    "\n",
    "# Initialize model\n",
    "model = AggregateLogNormalSVGP(inducing_points=inducing_points,\n",
    "                               transform=torch.exp,\n",
    "                               kernel=kernel,\n",
    "                               aggregate_fn=trpz,\n",
    "                               fit_intercept=cfg['model']['fit_intercept'])\n",
    "\n",
    "# Load state dict\n",
    "state_dict = torch.load('../sandbox/outputs/dev/dummy/state_dict.pt')\n",
    "model.load_state_dict(state_dict)"
   ]
  },
  {
   "cell_type": "markdown",
   "metadata": {},
   "source": [
    "### Infer $\\varphi|\\mathbf{\\tau}$ over 50 calibration columns"
   ]
  },
  {
   "cell_type": "code",
   "execution_count": 8,
   "metadata": {},
   "outputs": [
    {
     "data": {
      "application/vnd.jupyter.widget-view+json": {
       "model_id": "87f740acd63e4f2f994ed30c8f84702e",
       "version_major": 2,
       "version_minor": 0
      },
      "text/plain": [
       "HBox(children=(HTML(value=''), FloatProgress(value=0.0, max=4.0), HTML(value='')))"
      ]
     },
     "metadata": {},
     "output_type": "display_data"
    },
    {
     "name": "stdout",
     "output_type": "stream",
     "text": [
      "\n"
     ]
    }
   ],
   "source": [
    "# Choose a calibration columns to evaluate model over\n",
    "torch.random.manual_seed(cfg['evaluation']['calibration_seed'])\n",
    "calib_idx = torch.randperm(len(data.h_by_column_std))[:200]\n",
    "\n",
    "# Initialize empty tensors\n",
    "prediction_3d_means = torch.zeros_like(data.h_by_column_std[calib_idx])\n",
    "prediction_3d_stddevs = torch.zeros_like(data.h_by_column_std[calib_idx])\n",
    "h_stddev = data.h_by_column.std()\n",
    "\n",
    "# Setup index iteration and progress bar\n",
    "indices = torch.arange(len(data.x_by_column_std[calib_idx]))\n",
    "n_samples = len(data.z[calib_idx])\n",
    "L = cfg['model']['L']\n",
    "batch_size = cfg['evaluation']['batch_size']\n",
    "\n",
    "with torch.no_grad():\n",
    "    batch_iter = tqdm.notebook.tqdm(indices.split(batch_size))\n",
    "    for idx in batch_iter:\n",
    "        # Predict on standardized 3D covariates\n",
    "        qf_by_column = model(data.x_by_column_std[idx])\n",
    "\n",
    "        # Register in grid\n",
    "        prediction_3d_means[idx] = qf_by_column.mean - data.h_by_column_std[idx] / L\n",
    "        prediction_3d_stddevs[idx] = qf_by_column.stddev\n",
    "\n",
    "    # Make up for height standardization in integration\n",
    "    prediction_3d_means.sub_(torch.log(h_stddev))\n",
    "\n",
    "    # Rescale predictions by τ/∫φdh\n",
    "    def trpz(grid):\n",
    "        aggregated_grid = -torch.trapz(y=grid, x=data.h_by_column[calib_idx].unsqueeze(-1).cpu(), dim=-2)\n",
    "        return aggregated_grid\n",
    "    φ = torch.exp(prediction_3d_means + 0.5 * prediction_3d_stddevs.square())\n",
    "    aggregate_prediction_2d = trpz(φ.unsqueeze(-1)).squeeze()\n",
    "    correction = torch.log(data.z[calib_idx]) - torch.log(aggregate_prediction_2d)\n",
    "    prediction_3d_means.add_(correction.unsqueeze(-1))\n",
    "    \n",
    "    # Make distribution\n",
    "    prediction_3d_dist = torch.distributions.LogNormal(prediction_3d_means, prediction_3d_stddevs)"
   ]
  },
  {
   "cell_type": "markdown",
   "metadata": {},
   "source": [
    "### Compute ICI on a range of values for $\\alpha_b$"
   ]
  },
  {
   "cell_type": "code",
   "execution_count": 9,
   "metadata": {},
   "outputs": [],
   "source": [
    "# Sample from bext observation model\n",
    "def sample_bext(prediction_3d_dist, sigma_ext, n_samples):\n",
    "    φ = prediction_3d_dist.sample((n_samples,))\n",
    "    eps = torch.finfo(torch.float64).eps\n",
    "    loc = torch.log(φ.clip(min=eps)) - sigma_ext.square().div(2)\n",
    "    bext = torch.distributions.LogNormal(loc, sigma_ext).sample().float()\n",
    "    return bext\n",
    "\n",
    "# Compute confidence region lower and upper bounds\n",
    "def get_cr_bounds(bext, size):\n",
    "    q_lb = (1 - float(size)) / 2\n",
    "    q_ub = 1 - q_lb\n",
    "    lb, ub = torch.quantile(bext, q=torch.tensor([q_lb, q_ub]), dim=0)\n",
    "    return lb, ub\n",
    "\n",
    "# Compute calibration plots for given region sizes\n",
    "def compute_calibrations(prediction_3d_dist, sizes, sigma_ext, n_samples):\n",
    "    calibration = []\n",
    "    bext = sample_bext(prediction_3d_dist, sigma_ext, n_samples)\n",
    "    for size in sizes:\n",
    "        lb, ub = get_cr_bounds(bext, size)\n",
    "        lb_mask = data.gt_by_column[calib_idx] > lb\n",
    "        ub_mask = data.gt_by_column[calib_idx] < ub\n",
    "        cr_mask = lb_mask & ub_mask\n",
    "        calibration.append(cr_mask.float().mean().item())\n",
    "    return np.asarray(calibration)\n",
    "\n",
    "# Compute integral calibration index\n",
    "def ICI(calibration, sizes):\n",
    "    return np.abs(calibration - sizes).mean()"
   ]
  },
  {
   "cell_type": "code",
   "execution_count": 10,
   "metadata": {},
   "outputs": [
    {
     "data": {
      "application/vnd.jupyter.widget-view+json": {
       "model_id": "b19c68f94dd44eeda8f294157e7f8828",
       "version_major": 2,
       "version_minor": 0
      },
      "text/plain": [
       "HBox(children=(HTML(value=''), FloatProgress(value=0.0, max=499.0), HTML(value='')))"
      ]
     },
     "metadata": {},
     "output_type": "display_data"
    },
    {
     "name": "stdout",
     "output_type": "stream",
     "text": [
      "\n"
     ]
    }
   ],
   "source": [
    "# Range of shapes for bext\n",
    "sigma_exts = np.arange(0.01, 5, 0.01)\n",
    "sigma_ext_iters = tqdm.notebook.tqdm(sigma_exts)\n",
    "\n",
    "# Confidence region sizes to consider\n",
    "sizes = np.arange(0.05, 1.0, 0.2)\n",
    "\n",
    "# Number of samples to construct empirical confidence regions\n",
    "n_samples = 256\n",
    "\n",
    "integrals = []\n",
    "for sigma_ext in sigma_ext_iters:\n",
    "    sigma_ext = torch.tensor(sigma_ext)\n",
    "    calibration = compute_calibrations(prediction_3d_dist, sizes, sigma_ext, n_samples)\n",
    "    integrals.append(ICI(calibration, sizes))\n",
    "integrals = np.asarray(integrals)"
   ]
  },
  {
   "cell_type": "code",
   "execution_count": 11,
   "metadata": {},
   "outputs": [
    {
     "data": {
      "image/png": "[encoded data removed]",
      "text/plain": [
       "<Figure size 720x720 with 1 Axes>"
      ]
     },
     "metadata": {
      "needs_background": "light"
     },
     "output_type": "display_data"
    }
   ],
   "source": [
    "fig, ax = plt.subplots(1, 1, figsize=(10, 10))\n",
    "\n",
    "best_scale = sigma_exts[np.argmin(integrals)]\n",
    "ax.plot(sigma_exts, integrals, '--o', label=f'min = {best_scale:.3f}')\n",
    "\n",
    "ax.set_xlabel(r'$\\sigma_{ext}$', fontsize=16)\n",
    "ax.set_ylabel(r'$\\int$ |calibration_plot$(x) - x|dx$ ', fontsize=16)\n",
    "ax.grid(alpha=0.4)\n",
    "plt.legend(fontsize=18)\n",
    "plt.show()"
   ]
  },
  {
   "cell_type": "markdown",
   "metadata": {},
   "source": [
    "## Plot calibration plot with chosen $\\sigma_{ext}$"
   ]
  },
  {
   "cell_type": "code",
   "execution_count": 13,
   "metadata": {},
   "outputs": [
    {
     "data": {
      "application/vnd.jupyter.widget-view+json": {
       "model_id": "a2fdbfbfd1f346079b752fe08e305092",
       "version_major": 2,
       "version_minor": 0
      },
      "text/plain": [
       "HBox(children=(HTML(value=''), FloatProgress(value=0.0, max=20.0), HTML(value='')))"
      ]
     },
     "metadata": {},
     "output_type": "display_data"
    },
    {
     "name": "stdout",
     "output_type": "stream",
     "text": [
      "\n"
     ]
    }
   ],
   "source": [
    "# Choose random columns different from calibration ones\n",
    "torch.random.manual_seed(cfg['evaluation']['calibration_seed'])\n",
    "rdm_idx = torch.randperm(len(data.h_by_column_std))[50:1050]\n",
    "\n",
    "# Initialize empty tensors\n",
    "prediction_3d_means = torch.zeros_like(data.h_by_column_std[rdm_idx])\n",
    "prediction_3d_stddevs = torch.zeros_like(data.h_by_column_std[rdm_idx])\n",
    "h_stddev = data.h_by_column.std()\n",
    "\n",
    "# Setup index iteration and progress bar\n",
    "indices = torch.arange(len(data.x_by_column_std[rdm_idx]))\n",
    "n_samples = len(data.z[calib_idx])\n",
    "L = cfg['model']['L']\n",
    "batch_size = cfg['evaluation']['batch_size']\n",
    "\n",
    "with torch.no_grad():\n",
    "    batch_iter = tqdm.notebook.tqdm(indices.split(batch_size))\n",
    "    for idx in batch_iter:\n",
    "        # Predict on standardized 3D covariates\n",
    "        qf_by_column = model(data.x_by_column_std[idx])\n",
    "\n",
    "        # Register in grid\n",
    "        prediction_3d_means[idx] = qf_by_column.mean - data.h_by_column_std[idx] / L\n",
    "        prediction_3d_stddevs[idx] = qf_by_column.stddev\n",
    "\n",
    "    # Make up for height standardization in integration\n",
    "    prediction_3d_means.sub_(torch.log(h_stddev))\n",
    "\n",
    "    # Rescale predictions by τ/∫φdh\n",
    "    def trpz(grid):\n",
    "        aggregated_grid = -torch.trapz(y=grid, x=data.h_by_column[rdm_idx].unsqueeze(-1).cpu(), dim=-2)\n",
    "        return aggregated_grid\n",
    "    φ = torch.exp(prediction_3d_means + 0.5 * prediction_3d_stddevs.square())\n",
    "    aggregate_prediction_2d = trpz(φ.unsqueeze(-1)).squeeze()\n",
    "    correction = torch.log(data.z[rdm_idx]) - torch.log(aggregate_prediction_2d)\n",
    "    prediction_3d_means.add_(correction.unsqueeze(-1))\n",
    "    \n",
    "    # Make distribution\n",
    "    prediction_3d_dist = torch.distributions.LogNormal(prediction_3d_means, prediction_3d_stddevs)"
   ]
  },
  {
   "cell_type": "code",
   "execution_count": 14,
   "metadata": {},
   "outputs": [
    {
     "data": {
      "application/vnd.jupyter.widget-view+json": {
       "model_id": "78d879117071415fa648e398fdebef1a",
       "version_major": 2,
       "version_minor": 0
      },
      "text/plain": [
       "HBox(children=(HTML(value=''), FloatProgress(value=0.0, max=19.0), HTML(value='')))"
      ]
     },
     "metadata": {},
     "output_type": "display_data"
    },
    {
     "name": "stdout",
     "output_type": "stream",
     "text": [
      "\n"
     ]
    }
   ],
   "source": [
    "# Confidence region sizes to consider\n",
    "sizes = np.arange(0.05, 1.0, 0.05)\n",
    "sizes_iter = tqdm.notebook.tqdm(sizes)\n",
    "\n",
    "# Number of samples to construct empirical confidence regions\n",
    "n_samples = 256\n",
    "\n",
    "# Set observation model shape parameter\n",
    "sigma_ext = torch.tensor(2.120)\n",
    "\n",
    "# Compute calibration scores for each confidence region size\n",
    "calibration = []\n",
    "bext = sample_bext(prediction_3d_dist, sigma_ext, n_samples)\n",
    "for size in sizes_iter:\n",
    "    lb, ub = get_cr_bounds(bext, size)\n",
    "    lb_mask = data.gt_by_column[rdm_idx] > lb\n",
    "    ub_mask = data.gt_by_column[rdm_idx] < ub\n",
    "    cr_mask = lb_mask & ub_mask\n",
    "    calibration.append(cr_mask.float().mean().item())"
   ]
  },
  {
   "cell_type": "code",
   "execution_count": 15,
   "metadata": {},
   "outputs": [
    {
     "data": {
      "text/plain": [
       "<matplotlib.legend.Legend at 0x138ab1f70>"
      ]
     },
     "execution_count": 15,
     "metadata": {},
     "output_type": "execute_result"
    },
    {
     "data": {
      "image/png": "[encoded data removed]",
      "text/plain": [
       "<Figure size 720x720 with 1 Axes>"
      ]
     },
     "metadata": {
      "needs_background": "light"
     },
     "output_type": "display_data"
    }
   ],
   "source": [
    "fig, ax = plt.subplots(1, 1, figsize=(10, 10))\n",
    "\n",
    "ax.plot(sizes, sizes, 'k--', alpha=0.5)\n",
    "ax.plot(sizes, calibration, '--o', label=f'ICI = {ICI(calibration, sizes):.3f}')\n",
    "\n",
    "ax.set_xlabel('Confidence region size', fontsize=16)\n",
    "ax.set_ylabel('% Test samples within region', fontsize=16)\n",
    "ax.grid(alpha=0.4)\n",
    "\n",
    "plt.legend(fontsize=18)"
   ]
  }
 ],
 "metadata": {
  "kernelspec": {
   "display_name": "torch-kernel",
   "language": "python",
   "name": "torch-3.8-kernel"
  },
  "language_info": {
   "codemirror_mode": {
    "name": "ipython",
    "version": 3
   },
   "file_extension": ".py",
   "mimetype": "text/x-python",
   "name": "python",
   "nbconvert_exporter": "python",
   "pygments_lexer": "ipython3",
   "version": "3.8.0"
  }
 },
 "nbformat": 4,
 "nbformat_minor": 4
}
