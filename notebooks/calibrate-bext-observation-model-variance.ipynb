{
 "cells": [
  {
   "cell_type": "code",
   "execution_count": 1,
   "metadata": {},
   "outputs": [],
   "source": [
    "import os\n",
    "import sys\n",
    "import yaml\n",
    "import torch\n",
    "from gpytorch import kernels, distributions\n",
    "import numpy as np\n",
    "import matplotlib.pyplot as plt\n",
    "import tqdm\n",
    "\n",
    "base_dir = os.path.join(os.getcwd(), '..')\n",
    "sys.path.append(base_dir)\n",
    "\n",
    "import src.preprocessing as preproc\n",
    "from src.models import *"
   ]
  },
  {
   "cell_type": "code",
   "execution_count": 2,
   "metadata": {},
   "outputs": [],
   "source": [
    "# Load config file\n",
    "with open('../config/svgp.yaml', \"r\") as f:\n",
    "    cfg = yaml.safe_load(f)\n",
    "cfg['dataset']['path'] = '../data/aodisaggregation_emmisions_test_6.3_ACCMIP_200806.06_echam.nc'\n",
    "\n",
    "# Load dataset\n",
    "data = preproc.make_data(cfg=cfg, include_2d=False)"
   ]
  },
  {
   "cell_type": "code",
   "execution_count": 4,
   "metadata": {},
   "outputs": [
    {
     "data": {
      "text/plain": [
       "<All keys matched successfully>"
      ]
     },
     "execution_count": 4,
     "metadata": {},
     "output_type": "execute_result"
    }
   ],
   "source": [
    "# Define kernel\n",
    "time_kernel = kernels.MaternKernel(nu=1.5, ard_num_dims=1, active_dims=[0])\n",
    "latlon_kernel = kernels.ScaleKernel(kernels.MaternKernel(nu=1.5, ard_num_dims=2, active_dims=[2, 3]))\n",
    "P_relhum_kernel = kernels.MaternKernel(nu=0.5, ard_num_dims=2, active_dims=[4, 5])\n",
    "kernel = time_kernel * latlon_kernel + P_relhum_kernel\n",
    "\n",
    "# Define aggregation operator\n",
    "def trpz(grid):\n",
    "    aggregated_grid = -torch.trapz(y=grid, x=data.h_by_column.unsqueeze(-1), dim=-2)\n",
    "    return aggregated_grid\n",
    "\n",
    "# Initialize inducing points regularly across grid\n",
    "torch.random.manual_seed(cfg['model']['seed'])\n",
    "lowaltitude_x_std = data.x_std[data.x_std[:, -1] < -cfg['model']['lbda']]\n",
    "rdm_idx = torch.randperm(len(lowaltitude_x_std))[:cfg['model']['n_inducing_points']]\n",
    "inducing_points = lowaltitude_x_std[rdm_idx]\n",
    "\n",
    "# Initialize model\n",
    "model = AggregateGammaSVGP(inducing_points=inducing_points,\n",
    "                           transform=torch.exp,\n",
    "                           kernel=kernel,\n",
    "                           aggregate_fn=trpz,\n",
    "                           fit_intercept=cfg['model']['fit_intercept'])\n",
    "\n",
    "# Load state dict\n",
    "state_dict = torch.load('../sandbox/outputs/dev/svgp/state_dict.pt')\n",
    "model.load_state_dict(state_dict)"
   ]
  },
  {
   "cell_type": "code",
   "execution_count": 5,
   "metadata": {},
   "outputs": [
    {
     "data": {
      "application/vnd.jupyter.widget-view+json": {
       "model_id": "569666f7eed340208de07a23c97869fc",
       "version_major": 2,
       "version_minor": 0
      },
      "text/plain": [
       "HBox(children=(HTML(value=''), FloatProgress(value=0.0, max=20.0), HTML(value='')))"
      ]
     },
     "metadata": {},
     "output_type": "display_data"
    },
    {
     "name": "stdout",
     "output_type": "stream",
     "text": [
      "\n"
     ]
    }
   ],
   "source": [
    "# Choose a random subset of 1000 points to evaluate model over\n",
    "torch.random.manual_seed(5)\n",
    "rdm_idx = torch.randperm(len(data.h_by_column_std))[:1000]\n",
    "\n",
    "# Initialize empty tensors\n",
    "prediction_3d_means = torch.zeros_like(data.h_by_column_std[rdm_idx])\n",
    "prediction_3d_stddevs = torch.zeros_like(data.h_by_column_std[rdm_idx])\n",
    "h_stddev = data.h_by_column.std()\n",
    "\n",
    "# Setup index iteration and progress bar\n",
    "indices = torch.arange(len(data.x_by_column_std[rdm_idx]))\n",
    "n_samples = len(data.z[rdm_idx])\n",
    "lbda = cfg['model']['lbda']\n",
    "batch_size = cfg['evaluation']['batch_size']\n",
    "\n",
    "with torch.no_grad():\n",
    "    batch_iter = tqdm.notebook.tqdm(indices.split(batch_size))\n",
    "    for idx in batch_iter:\n",
    "        # Predict on standardized 3D covariates\n",
    "        qf_by_column = model(data.x_by_column_std[idx])\n",
    "\n",
    "        # Register in grid\n",
    "        prediction_3d_means[idx] = qf_by_column.mean - lbda * data.h_by_column_std[idx]\n",
    "        prediction_3d_stddevs[idx] = qf_by_column.stddev\n",
    "\n",
    "    # Make up for height standardization in integration\n",
    "    prediction_3d_means.sub_(torch.log(h_stddev))\n",
    "\n",
    "    # Rescale predictions by τ/∫φdh\n",
    "    def trpz(grid):\n",
    "        aggregated_grid = -torch.trapz(y=grid, x=data.h_by_column[rdm_idx].unsqueeze(-1).cpu(), dim=-2)\n",
    "        return aggregated_grid\n",
    "    φ = torch.exp(prediction_3d_means + 0.5 * prediction_3d_stddevs.square())\n",
    "    aggregate_prediction_2d = trpz(φ.unsqueeze(-1)).squeeze()\n",
    "    correction = torch.log(data.z[rdm_idx]) - torch.log(aggregate_prediction_2d)\n",
    "    prediction_3d_means.add_(correction.unsqueeze(-1))\n",
    "    \n",
    "    # Make distribution\n",
    "    prediction_3d_dist = torch.distributions.LogNormal(prediction_3d_means, prediction_3d_stddevs)"
   ]
  },
  {
   "cell_type": "code",
   "execution_count": 11,
   "metadata": {},
   "outputs": [],
   "source": [
    "# Sample from bext observation model\n",
    "def sample_bext(prediction_3d_dist, sigma_bext, n_samples):\n",
    "    φ = prediction_3d_dist.sample((n_samples,))\n",
    "    loc = torch.log(φ.clip(min=torch.finfo(torch.float64).eps)) - sigma_bext.square().div(2)\n",
    "    bext = torch.distributions.LogNormal(loc, sigma_bext).sample()\n",
    "    return bext\n",
    "\n",
    "# Compute confidence region lower and upper bounds\n",
    "def get_cr_bounds(bext, size):\n",
    "    q_lb = (1 - float(size)) / 2\n",
    "    q_ub = 1 - q_lb\n",
    "    lb, ub = torch.quantile(bext, q=torch.tensor([q_lb, q_ub]), dim=0)\n",
    "    return lb, ub\n",
    "\n",
    "# Compute calibration plots for given region sizes\n",
    "def compute_calibrations(prediction_3d_dist, sizes, sigma_bext, n_samples):\n",
    "    calibration = []\n",
    "    bext = sample_bext(prediction_3d_dist, sigma_bext, n_samples)\n",
    "    sizes_iter = tqdm.notebook.tqdm(sizes)\n",
    "    for size in sizes_iter:\n",
    "        lb, ub = get_cr_bounds(bext, size)\n",
    "        lb_mask = data.gt_by_column[rdm_idx] > lb\n",
    "        ub_mask = data.gt_by_column[rdm_idx] < ub\n",
    "        cr_mask = lb_mask & ub_mask\n",
    "        calibration.append(cr_mask.float().mean().item())\n",
    "    return np.asarray(calibration)\n",
    "\n",
    "# Compute integral calibration absolute deviation\n",
    "def ICAD(calibration, sizes):\n",
    "    return np.abs(calibration - sizes).sum()"
   ]
  },
  {
   "cell_type": "code",
   "execution_count": 26,
   "metadata": {},
   "outputs": [
    {
     "data": {
      "application/vnd.jupyter.widget-view+json": {
       "model_id": "cd2db41505d7438a9b4e68d23d94b62a",
       "version_major": 2,
       "version_minor": 0
      },
      "text/plain": [
       "HBox(children=(HTML(value=''), FloatProgress(value=0.0, max=11.0), HTML(value='')))"
      ]
     },
     "metadata": {},
     "output_type": "display_data"
    },
    {
     "data": {
      "application/vnd.jupyter.widget-view+json": {
       "model_id": "9caf521e2b79494d913c79226fcd8e77",
       "version_major": 2,
       "version_minor": 0
      },
      "text/plain": [
       "HBox(children=(HTML(value=''), FloatProgress(value=0.0, max=19.0), HTML(value='')))"
      ]
     },
     "metadata": {},
     "output_type": "display_data"
    },
    {
     "name": "stdout",
     "output_type": "stream",
     "text": [
      "\n"
     ]
    },
    {
     "data": {
      "application/vnd.jupyter.widget-view+json": {
       "model_id": "fa7194e2b4794a129704d023fab15e50",
       "version_major": 2,
       "version_minor": 0
      },
      "text/plain": [
       "HBox(children=(HTML(value=''), FloatProgress(value=0.0, max=19.0), HTML(value='')))"
      ]
     },
     "metadata": {},
     "output_type": "display_data"
    },
    {
     "name": "stdout",
     "output_type": "stream",
     "text": [
      "\n"
     ]
    },
    {
     "data": {
      "application/vnd.jupyter.widget-view+json": {
       "model_id": "6b9cb90aa068485683cd875b97d54023",
       "version_major": 2,
       "version_minor": 0
      },
      "text/plain": [
       "HBox(children=(HTML(value=''), FloatProgress(value=0.0, max=19.0), HTML(value='')))"
      ]
     },
     "metadata": {},
     "output_type": "display_data"
    },
    {
     "name": "stdout",
     "output_type": "stream",
     "text": [
      "\n"
     ]
    },
    {
     "data": {
      "application/vnd.jupyter.widget-view+json": {
       "model_id": "95377823ed69476baefbd13503a74053",
       "version_major": 2,
       "version_minor": 0
      },
      "text/plain": [
       "HBox(children=(HTML(value=''), FloatProgress(value=0.0, max=19.0), HTML(value='')))"
      ]
     },
     "metadata": {},
     "output_type": "display_data"
    },
    {
     "name": "stdout",
     "output_type": "stream",
     "text": [
      "\n"
     ]
    },
    {
     "data": {
      "application/vnd.jupyter.widget-view+json": {
       "model_id": "4006fa827fc249fd8a14ac838e20316b",
       "version_major": 2,
       "version_minor": 0
      },
      "text/plain": [
       "HBox(children=(HTML(value=''), FloatProgress(value=0.0, max=19.0), HTML(value='')))"
      ]
     },
     "metadata": {},
     "output_type": "display_data"
    },
    {
     "name": "stdout",
     "output_type": "stream",
     "text": [
      "\n"
     ]
    },
    {
     "data": {
      "application/vnd.jupyter.widget-view+json": {
       "model_id": "784a155087f343a78d3c8cd0d6a309bd",
       "version_major": 2,
       "version_minor": 0
      },
      "text/plain": [
       "HBox(children=(HTML(value=''), FloatProgress(value=0.0, max=19.0), HTML(value='')))"
      ]
     },
     "metadata": {},
     "output_type": "display_data"
    },
    {
     "name": "stdout",
     "output_type": "stream",
     "text": [
      "\n"
     ]
    },
    {
     "data": {
      "application/vnd.jupyter.widget-view+json": {
       "model_id": "cf2b8560103046ecb2856fd6854d2245",
       "version_major": 2,
       "version_minor": 0
      },
      "text/plain": [
       "HBox(children=(HTML(value=''), FloatProgress(value=0.0, max=19.0), HTML(value='')))"
      ]
     },
     "metadata": {},
     "output_type": "display_data"
    },
    {
     "name": "stdout",
     "output_type": "stream",
     "text": [
      "\n"
     ]
    },
    {
     "data": {
      "application/vnd.jupyter.widget-view+json": {
       "model_id": "0e2bd0eb1f6d461b8ce51430f84c5b90",
       "version_major": 2,
       "version_minor": 0
      },
      "text/plain": [
       "HBox(children=(HTML(value=''), FloatProgress(value=0.0, max=19.0), HTML(value='')))"
      ]
     },
     "metadata": {},
     "output_type": "display_data"
    },
    {
     "name": "stdout",
     "output_type": "stream",
     "text": [
      "\n"
     ]
    },
    {
     "data": {
      "application/vnd.jupyter.widget-view+json": {
       "model_id": "c7efcd5865f34830888816df1ceb11a3",
       "version_major": 2,
       "version_minor": 0
      },
      "text/plain": [
       "HBox(children=(HTML(value=''), FloatProgress(value=0.0, max=19.0), HTML(value='')))"
      ]
     },
     "metadata": {},
     "output_type": "display_data"
    },
    {
     "name": "stdout",
     "output_type": "stream",
     "text": [
      "\n"
     ]
    },
    {
     "data": {
      "application/vnd.jupyter.widget-view+json": {
       "model_id": "b5ed3b0e9e1146d78827066909f85750",
       "version_major": 2,
       "version_minor": 0
      },
      "text/plain": [
       "HBox(children=(HTML(value=''), FloatProgress(value=0.0, max=19.0), HTML(value='')))"
      ]
     },
     "metadata": {},
     "output_type": "display_data"
    },
    {
     "name": "stdout",
     "output_type": "stream",
     "text": [
      "\n"
     ]
    },
    {
     "data": {
      "application/vnd.jupyter.widget-view+json": {
       "model_id": "f17807c5743b4d6f80b0d33497894348",
       "version_major": 2,
       "version_minor": 0
      },
      "text/plain": [
       "HBox(children=(HTML(value=''), FloatProgress(value=0.0, max=19.0), HTML(value='')))"
      ]
     },
     "metadata": {},
     "output_type": "display_data"
    },
    {
     "name": "stdout",
     "output_type": "stream",
     "text": [
      "\n",
      "\n"
     ]
    }
   ],
   "source": [
    "# Range of variances for bext\n",
    "variances = np.arange(0.5, 2.6, 0.2)\n",
    "variance_iters = tqdm.notebook.tqdm(variances)\n",
    "\n",
    "# Confidence region sizes to consider\n",
    "sizes = np.arange(0.05, 1.0, 0.05)\n",
    "\n",
    "# Number of samples to construct empirical confidence regions\n",
    "n_samples = 100\n",
    "\n",
    "integrals = []\n",
    "for variance in variance_iters:\n",
    "    sigma_bext = torch.tensor(variance)\n",
    "    calibration = compute_calibrations(prediction_3d_dist, sizes, sigma_bext, n_samples)\n",
    "    integrals.append(ICAD(calibration, sizes))\n",
    "integrals = np.asarray(integrals)"
   ]
  },
  {
   "cell_type": "code",
   "execution_count": 27,
   "metadata": {},
   "outputs": [
    {
     "data": {
      "text/plain": [
       "<matplotlib.legend.Legend at 0x138d512b0>"
      ]
     },
     "execution_count": 27,
     "metadata": {},
     "output_type": "execute_result"
    },
    {
     "data": {
      "image/png": "[encoded data removed]",
      "text/plain": [
       "<Figure size 720x720 with 1 Axes>"
      ]
     },
     "metadata": {
      "needs_background": "light"
     },
     "output_type": "display_data"
    }
   ],
   "source": [
    "fig, ax = plt.subplots(1, 1, figsize=(10, 10))\n",
    "\n",
    "best_variance = variances[np.argmin(integrals)]\n",
    "ax.plot(variances, integrals, '--o', label=f'min = {best_variance:.1f}')\n",
    "\n",
    "ax.set_xlabel(r'$\\sigma_b$', fontsize=16)\n",
    "ax.set_ylabel(r'$\\int$ |calibration_plot$(x) - x|dx$ ', fontsize=16)\n",
    "ax.grid(alpha=0.4)\n",
    "plt.legend(fontsize=18)"
   ]
  }
 ],
 "metadata": {
  "kernelspec": {
   "display_name": "torch-kernel",
   "language": "python",
   "name": "torch-3.8-kernel"
  },
  "language_info": {
   "codemirror_mode": {
    "name": "ipython",
    "version": 3
   },
   "file_extension": ".py",
   "mimetype": "text/x-python",
   "name": "python",
   "nbconvert_exporter": "python",
   "pygments_lexer": "ipython3",
   "version": "3.8.0"
  }
 },
 "nbformat": 4,
 "nbformat_minor": 4
}
