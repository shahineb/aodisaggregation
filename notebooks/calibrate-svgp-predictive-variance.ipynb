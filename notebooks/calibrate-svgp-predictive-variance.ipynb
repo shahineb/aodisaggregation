{
 "cells": [
  {
   "cell_type": "code",
   "execution_count": 1,
   "metadata": {},
   "outputs": [],
   "source": [
    "import os\n",
    "import sys\n",
    "import yaml\n",
    "import torch\n",
    "from gpytorch import kernels, distributions\n",
    "import numpy as np\n",
    "import matplotlib.pyplot as plt\n",
    "import tqdm\n",
    "\n",
    "base_dir = os.path.join(os.getcwd(), '..')\n",
    "sys.path.append(base_dir)\n",
    "\n",
    "import src.preprocessing as preproc\n",
    "from src.models import *"
   ]
  },
  {
   "cell_type": "code",
   "execution_count": 2,
   "metadata": {},
   "outputs": [],
   "source": [
    "# Load config file\n",
    "with open('../config/svgp.yaml', \"r\") as f:\n",
    "    cfg = yaml.safe_load(f)\n",
    "cfg['dataset']['path'] = '../data/aodisaggregation_emmisions_test_6.3_ACCMIP_200806.06_echam.nc'\n",
    "\n",
    "# Load dataset\n",
    "data = preproc.make_data(cfg=cfg, include_2d=False)"
   ]
  },
  {
   "cell_type": "code",
   "execution_count": 7,
   "metadata": {},
   "outputs": [
    {
     "data": {
      "text/plain": [
       "<All keys matched successfully>"
      ]
     },
     "execution_count": 7,
     "metadata": {},
     "output_type": "execute_result"
    }
   ],
   "source": [
    "# Define kernel\n",
    "time_kernel = kernels.MaternKernel(nu=1.5, ard_num_dims=1, active_dims=[0])\n",
    "latlon_kernel = kernels.ScaleKernel(kernels.MaternKernel(nu=1.5, ard_num_dims=2, active_dims=[2, 3]))\n",
    "P_relhum_kernel = kernels.ScaleKernel(kernels.MaternKernel(nu=0.5, ard_num_dims=2, active_dims=[4, 5]))\n",
    "kernel = time_kernel * latlon_kernel + P_relhum_kernel\n",
    "\n",
    "# Define aggregation operator\n",
    "def trpz(grid):\n",
    "    aggregated_grid = -torch.trapz(y=grid, x=data.h_by_column.unsqueeze(-1), dim=-2)\n",
    "    return aggregated_grid\n",
    "\n",
    "# Initialize inducing points regularly across grid\n",
    "torch.random.manual_seed(cfg['model']['seed'])\n",
    "lowaltitude_x_std = data.x_std[data.x_std[:, -1] < -0.8]\n",
    "rdm_idx = torch.randperm(len(lowaltitude_x_std))[:cfg['model']['n_inducing_points']]\n",
    "inducing_points = lowaltitude_x_std[rdm_idx]\n",
    "\n",
    "# Initialize model\n",
    "model = AggregateGammaSVGP(inducing_points=inducing_points,\n",
    "                           transform=torch.exp,\n",
    "                           kernel=kernel,\n",
    "                           aggregate_fn=trpz,\n",
    "                           fit_intercept=cfg['model']['fit_intercept'])\n",
    "\n",
    "# Load state dict\n",
    "state_dict = torch.load('../sandbox/outputs/dev/svgp/state_dict.pt')\n",
    "model.load_state_dict(state_dict)"
   ]
  },
  {
   "cell_type": "code",
   "execution_count": 8,
   "metadata": {},
   "outputs": [
    {
     "data": {
      "application/vnd.jupyter.widget-view+json": {
       "model_id": "7180cf20a9dd451b8d9d3674e4c5a73f",
       "version_major": 2,
       "version_minor": 0
      },
      "text/plain": [
       "HBox(children=(HTML(value=''), FloatProgress(value=0.0, max=20.0), HTML(value='')))"
      ]
     },
     "metadata": {},
     "output_type": "display_data"
    },
    {
     "name": "stdout",
     "output_type": "stream",
     "text": [
      "\n"
     ]
    }
   ],
   "source": [
    "# Choose a random subset of 1000 points to evaluate model over\n",
    "torch.random.manual_seed(5)\n",
    "rdm_idx = torch.randperm(len(data.h_by_column_std))[:1000]\n",
    "\n",
    "# Initialize empty tensors\n",
    "prediction_3d_means = torch.zeros_like(data.h_by_column_std[rdm_idx])\n",
    "prediction_3d_stddevs = torch.zeros_like(data.h_by_column_std[rdm_idx])\n",
    "h_stddev = data.h_by_column.std()\n",
    "\n",
    "# Setup index iteration and progress bar\n",
    "indices = torch.arange(len(data.x_by_column_std[rdm_idx]))\n",
    "n_samples = len(data.z[rdm_idx])\n",
    "lbda = cfg['model']['lbda']\n",
    "batch_size = cfg['evaluation']['batch_size']\n",
    "\n",
    "with torch.no_grad():\n",
    "    batch_iter = tqdm.notebook.tqdm(indices.split(batch_size))\n",
    "    for idx in batch_iter:\n",
    "        # Predict on standardized 3D covariates\n",
    "        qf_by_column = model(data.x_by_column_std[idx])\n",
    "\n",
    "        # Register in grid\n",
    "        prediction_3d_means[idx] = qf_by_column.mean - lbda * data.h_by_column_std[idx]\n",
    "        prediction_3d_stddevs[idx] = qf_by_column.stddev\n",
    "\n",
    "    # Make up for height standardization in integration\n",
    "    prediction_3d_means.sub_(torch.log(h_stddev))\n",
    "\n",
    "    # Rescale predictions by τ/∫φdh\n",
    "    def trpz(grid):\n",
    "        aggregated_grid = -torch.trapz(y=grid, x=data.h_by_column[rdm_idx].unsqueeze(-1).cpu(), dim=-2)\n",
    "        return aggregated_grid\n",
    "    φ = torch.exp(prediction_3d_means + 0.5 * prediction_3d_stddevs.square())\n",
    "    aggregate_prediction_2d = trpz(φ.unsqueeze(-1)).squeeze()\n",
    "    correction = torch.log(data.z[rdm_idx]) - torch.log(aggregate_prediction_2d)\n",
    "    prediction_3d_means.add_(correction.unsqueeze(-1))\n",
    "    \n",
    "    # Make distribution\n",
    "    prediction_3d_dist = torch.distributions.LogNormal(prediction_3d_means, prediction_3d_stddevs)"
   ]
  },
  {
   "cell_type": "code",
   "execution_count": 9,
   "metadata": {},
   "outputs": [],
   "source": [
    "# Compute calibration plots for given region sizes\n",
    "def compute_calibrations(prediction_3d_dist, sizes):\n",
    "    calibration = []\n",
    "    mu = prediction_3d_dist.mean\n",
    "    for size in sizes:\n",
    "        q_lb = (1 - size) / 2\n",
    "        q_ub = 1 - q_lb\n",
    "        lb = prediction_3d_dist.icdf(torch.tensor(q_lb))\n",
    "        ub = prediction_3d_dist.icdf(torch.tensor(q_ub))\n",
    "        lb_mask = data.gt_by_column[rdm_idx] > lb\n",
    "        ub_mask = data.gt_by_column[rdm_idx] < ub\n",
    "        value_mask = data.gt_by_column[rdm_idx] > -1\n",
    "        region_mask = lb_mask[value_mask] & ub_mask[value_mask]\n",
    "        calibration.append(region_mask.float().mean().item())\n",
    "    return np.asarray(calibration)\n",
    "\n",
    "# Rescale distribution variance without shifting mean\n",
    "def rescale_variance(prediction_3d_dist, variance_multiplier):\n",
    "    mu0 = prediction_3d_dist.loc\n",
    "    sigma0 = prediction_3d_dist.scale\n",
    "    sigma1 = variance_multiplier * sigma0\n",
    "    mu1 = mu0 + (sigma0.square() - sigma1.square()) / 2\n",
    "    recalibrated_dist = torch.distributions.LogNormal(mu1, sigma1)\n",
    "    return recalibrated_dist\n",
    "\n",
    "# Compute deviation from perfect calibration\n",
    "def calibration_integral(calibration, sizes):\n",
    "    return np.abs(calibration - sizes).sum()"
   ]
  },
  {
   "cell_type": "code",
   "execution_count": 12,
   "metadata": {},
   "outputs": [
    {
     "data": {
      "application/vnd.jupyter.widget-view+json": {
       "model_id": "0d9f5707bd2b4511ab1c0d0f8a87c88c",
       "version_major": 2,
       "version_minor": 0
      },
      "text/plain": [
       "HBox(children=(HTML(value=''), FloatProgress(value=0.0, max=71.0), HTML(value='')))"
      ]
     },
     "metadata": {},
     "output_type": "display_data"
    },
    {
     "name": "stdout",
     "output_type": "stream",
     "text": [
      "\n"
     ]
    }
   ],
   "source": [
    "# Range of variance multipliers to look into\n",
    "variance_multipliers = np.arange(1., 8.1, 0.1)\n",
    "variance_iters = tqdm.notebook.tqdm(variance_multipliers)\n",
    "\n",
    "# Confidence region sizes to consider\n",
    "sizes = np.arange(0.01, 1., 0.01)\n",
    "\n",
    "integrals = []\n",
    "for variance_multiplier in variance_iters:\n",
    "    recalibrated_dist = rescale_variance(prediction_3d_dist, variance_multiplier)\n",
    "    calibration = compute_calibrations(recalibrated_dist, sizes)\n",
    "    integrals.append(calibration_integral(calibration, sizes))\n",
    "integrals = np.asarray(integrals)"
   ]
  },
  {
   "cell_type": "code",
   "execution_count": 13,
   "metadata": {},
   "outputs": [
    {
     "name": "stdout",
     "output_type": "stream",
     "text": [
      "\n"
     ]
    },
    {
     "data": {
      "text/plain": [
       "<matplotlib.legend.Legend at 0x158247520>"
      ]
     },
     "execution_count": 13,
     "metadata": {},
     "output_type": "execute_result"
    },
    {
     "data": {
      "image/png": "[encoded data removed]",
      "text/plain": [
       "<Figure size 720x720 with 1 Axes>"
      ]
     },
     "metadata": {
      "needs_background": "light"
     },
     "output_type": "display_data"
    }
   ],
   "source": [
    "fig, ax = plt.subplots(1, 1, figsize=(10, 10))\n",
    "\n",
    "best_multiplier = variance_multipliers[np.argmin(integrals)]\n",
    "ax.plot(variance_multipliers, integrals, '--o', label=f'min = {best_multiplier:.1f}')\n",
    "\n",
    "ax.set_xlabel('Variance multiplier', fontsize=16)\n",
    "ax.set_ylabel(r'$\\int$ |calibration_plot$(x) - x|dx$ ', fontsize=16)\n",
    "ax.grid(alpha=0.4)\n",
    "plt.legend(fontsize=18)"
   ]
  }
 ],
 "metadata": {
  "kernelspec": {
   "display_name": "torch-kernel",
   "language": "python",
   "name": "torch-3.8-kernel"
  },
  "language_info": {
   "codemirror_mode": {
    "name": "ipython",
    "version": 3
   },
   "file_extension": ".py",
   "mimetype": "text/x-python",
   "name": "python",
   "nbconvert_exporter": "python",
   "pygments_lexer": "ipython3",
   "version": "3.8.0"
  }
 },
 "nbformat": 4,
 "nbformat_minor": 4
}
